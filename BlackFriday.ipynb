{
 "cells": [
  {
   "cell_type": "markdown",
   "metadata": {},
   "source": [
    "# Comparison of Multivariate Linear Regression Models"
   ]
  },
  {
   "cell_type": "markdown",
   "metadata": {},
   "source": [
    "### Made for CS 4501 Machine Learning - Department of Computer Science - University of Virginia\n",
    "\n",
    "#### By Ali Shannon (aa3dc@virginia.edu)"
   ]
  },
  {
   "cell_type": "markdown",
   "metadata": {},
   "source": [
    "***\n",
    "## 1. BIG PICTURE \n",
    "This dataset explores the purchasing power during a Black Friday shopping spree. Uses features such as age, city, occupation, gender, and category of items purchased. My goal is to estimate the amount a buyer is spending during that one day of the year. I have chosen this dataset because the information seem interesting and useful for a retail stores that wishes to understand the demographics or items they ought to invest in for future events.\n",
    "\n",
    "The dataset contains only one CSV (Comma Separated Value) file and I will explore the correlations between the different features. My goal is to explore statistical information, clean up the dataset, and attempt to make my own regression model to test it against ones that are readily available from scikit-learn.\n",
    "\n",
    "Data is available [here](https://www.kaggle.com/mehdidag/black-friday).\n",
    "\n",
    " * This dataset is about 25MB \n",
    " * Contains 537,577 entries (or rows)\n",
    " * 12 total columns, 9 of which will be considered as features"
   ]
  },
  {
   "cell_type": "code",
   "execution_count": 1,
   "metadata": {},
   "outputs": [],
   "source": [
    "# Import some common packages\n",
    "import os\n",
    "import numpy as np\n",
    "import matplotlib\n",
    "import matplotlib.pyplot as plt\n",
    "import pandas as pd\n",
    "\n",
    "# to make this notebook's output stable across runs\n",
    "np.random.seed(42)\n",
    "\n",
    "# Your code goes here for this section, make sure you also include the output to answer the above questions.\n",
    "datasetURL = \"https://www.kaggle.com/mehdidag/black-friday\"; # required url to download for CSV file. The TA will need to download the file and run your program."
   ]
  },
  {
   "cell_type": "markdown",
   "metadata": {},
   "source": [
    "---\n",
    "## 2. DATA DISCOVERY, CLEANING, AND SCALING\n"
   ]
  },
  {
   "cell_type": "markdown",
   "metadata": {},
   "source": [
    "**Data Discovery** here I will explore the dataset and visualize some relationships"
   ]
  },
  {
   "cell_type": "code",
   "execution_count": 2,
   "metadata": {},
   "outputs": [
    {
     "name": "stdout",
     "output_type": "stream",
     "text": [
      "(537577, 12)\n"
     ]
    },
    {
     "data": {
      "text/html": [
       "<div>\n",
       "<style scoped>\n",
       "    .dataframe tbody tr th:only-of-type {\n",
       "        vertical-align: middle;\n",
       "    }\n",
       "\n",
       "    .dataframe tbody tr th {\n",
       "        vertical-align: top;\n",
       "    }\n",
       "\n",
       "    .dataframe thead th {\n",
       "        text-align: right;\n",
       "    }\n",
       "</style>\n",
       "<table border=\"1\" class=\"dataframe\">\n",
       "  <thead>\n",
       "    <tr style=\"text-align: right;\">\n",
       "      <th></th>\n",
       "      <th>User_ID</th>\n",
       "      <th>Product_ID</th>\n",
       "      <th>Gender</th>\n",
       "      <th>Age</th>\n",
       "      <th>Occupation</th>\n",
       "      <th>City_Category</th>\n",
       "      <th>Stay_In_Current_City_Years</th>\n",
       "      <th>Marital_Status</th>\n",
       "      <th>Product_Category_1</th>\n",
       "      <th>Product_Category_2</th>\n",
       "      <th>Product_Category_3</th>\n",
       "      <th>Purchase</th>\n",
       "    </tr>\n",
       "  </thead>\n",
       "  <tbody>\n",
       "    <tr>\n",
       "      <th>0</th>\n",
       "      <td>1000001</td>\n",
       "      <td>P00069042</td>\n",
       "      <td>F</td>\n",
       "      <td>0-17</td>\n",
       "      <td>10</td>\n",
       "      <td>A</td>\n",
       "      <td>2</td>\n",
       "      <td>0</td>\n",
       "      <td>3</td>\n",
       "      <td>NaN</td>\n",
       "      <td>NaN</td>\n",
       "      <td>8370</td>\n",
       "    </tr>\n",
       "    <tr>\n",
       "      <th>1</th>\n",
       "      <td>1000001</td>\n",
       "      <td>P00248942</td>\n",
       "      <td>F</td>\n",
       "      <td>0-17</td>\n",
       "      <td>10</td>\n",
       "      <td>A</td>\n",
       "      <td>2</td>\n",
       "      <td>0</td>\n",
       "      <td>1</td>\n",
       "      <td>6.0</td>\n",
       "      <td>14.0</td>\n",
       "      <td>15200</td>\n",
       "    </tr>\n",
       "    <tr>\n",
       "      <th>2</th>\n",
       "      <td>1000001</td>\n",
       "      <td>P00087842</td>\n",
       "      <td>F</td>\n",
       "      <td>0-17</td>\n",
       "      <td>10</td>\n",
       "      <td>A</td>\n",
       "      <td>2</td>\n",
       "      <td>0</td>\n",
       "      <td>12</td>\n",
       "      <td>NaN</td>\n",
       "      <td>NaN</td>\n",
       "      <td>1422</td>\n",
       "    </tr>\n",
       "    <tr>\n",
       "      <th>3</th>\n",
       "      <td>1000001</td>\n",
       "      <td>P00085442</td>\n",
       "      <td>F</td>\n",
       "      <td>0-17</td>\n",
       "      <td>10</td>\n",
       "      <td>A</td>\n",
       "      <td>2</td>\n",
       "      <td>0</td>\n",
       "      <td>12</td>\n",
       "      <td>14.0</td>\n",
       "      <td>NaN</td>\n",
       "      <td>1057</td>\n",
       "    </tr>\n",
       "    <tr>\n",
       "      <th>4</th>\n",
       "      <td>1000002</td>\n",
       "      <td>P00285442</td>\n",
       "      <td>M</td>\n",
       "      <td>55+</td>\n",
       "      <td>16</td>\n",
       "      <td>C</td>\n",
       "      <td>4+</td>\n",
       "      <td>0</td>\n",
       "      <td>8</td>\n",
       "      <td>NaN</td>\n",
       "      <td>NaN</td>\n",
       "      <td>7969</td>\n",
       "    </tr>\n",
       "  </tbody>\n",
       "</table>\n",
       "</div>"
      ],
      "text/plain": [
       "   User_ID Product_ID Gender   Age  Occupation City_Category  \\\n",
       "0  1000001  P00069042      F  0-17          10             A   \n",
       "1  1000001  P00248942      F  0-17          10             A   \n",
       "2  1000001  P00087842      F  0-17          10             A   \n",
       "3  1000001  P00085442      F  0-17          10             A   \n",
       "4  1000002  P00285442      M   55+          16             C   \n",
       "\n",
       "  Stay_In_Current_City_Years  Marital_Status  Product_Category_1  \\\n",
       "0                          2               0                   3   \n",
       "1                          2               0                   1   \n",
       "2                          2               0                  12   \n",
       "3                          2               0                  12   \n",
       "4                         4+               0                   8   \n",
       "\n",
       "   Product_Category_2  Product_Category_3  Purchase  \n",
       "0                 NaN                 NaN      8370  \n",
       "1                 6.0                14.0     15200  \n",
       "2                 NaN                 NaN      1422  \n",
       "3                14.0                 NaN      1057  \n",
       "4                 NaN                 NaN      7969  "
      ]
     },
     "execution_count": 2,
     "metadata": {},
     "output_type": "execute_result"
    }
   ],
   "source": [
    "# read the csv file into a pandas dataframe\n",
    "df = pd.read_csv('BlackFriday.csv')\n",
    "# display shape\n",
    "print(df.shape)\n",
    "# display first 5 entries\n",
    "df.head()"
   ]
  },
  {
   "cell_type": "markdown",
   "metadata": {},
   "source": [
    "Display basic statistical information for each column"
   ]
  },
  {
   "cell_type": "code",
   "execution_count": 3,
   "metadata": {},
   "outputs": [
    {
     "data": {
      "text/html": [
       "<div>\n",
       "<style scoped>\n",
       "    .dataframe tbody tr th:only-of-type {\n",
       "        vertical-align: middle;\n",
       "    }\n",
       "\n",
       "    .dataframe tbody tr th {\n",
       "        vertical-align: top;\n",
       "    }\n",
       "\n",
       "    .dataframe thead th {\n",
       "        text-align: right;\n",
       "    }\n",
       "</style>\n",
       "<table border=\"1\" class=\"dataframe\">\n",
       "  <thead>\n",
       "    <tr style=\"text-align: right;\">\n",
       "      <th></th>\n",
       "      <th>User_ID</th>\n",
       "      <th>Occupation</th>\n",
       "      <th>Marital_Status</th>\n",
       "      <th>Product_Category_1</th>\n",
       "      <th>Product_Category_2</th>\n",
       "      <th>Product_Category_3</th>\n",
       "      <th>Purchase</th>\n",
       "    </tr>\n",
       "  </thead>\n",
       "  <tbody>\n",
       "    <tr>\n",
       "      <th>count</th>\n",
       "      <td>5.375770e+05</td>\n",
       "      <td>537577.00000</td>\n",
       "      <td>537577.000000</td>\n",
       "      <td>537577.000000</td>\n",
       "      <td>370591.000000</td>\n",
       "      <td>164278.000000</td>\n",
       "      <td>537577.000000</td>\n",
       "    </tr>\n",
       "    <tr>\n",
       "      <th>mean</th>\n",
       "      <td>1.002992e+06</td>\n",
       "      <td>8.08271</td>\n",
       "      <td>0.408797</td>\n",
       "      <td>5.295546</td>\n",
       "      <td>9.842144</td>\n",
       "      <td>12.669840</td>\n",
       "      <td>9333.859853</td>\n",
       "    </tr>\n",
       "    <tr>\n",
       "      <th>std</th>\n",
       "      <td>1.714393e+03</td>\n",
       "      <td>6.52412</td>\n",
       "      <td>0.491612</td>\n",
       "      <td>3.750701</td>\n",
       "      <td>5.087259</td>\n",
       "      <td>4.124341</td>\n",
       "      <td>4981.022133</td>\n",
       "    </tr>\n",
       "    <tr>\n",
       "      <th>min</th>\n",
       "      <td>1.000001e+06</td>\n",
       "      <td>0.00000</td>\n",
       "      <td>0.000000</td>\n",
       "      <td>1.000000</td>\n",
       "      <td>2.000000</td>\n",
       "      <td>3.000000</td>\n",
       "      <td>185.000000</td>\n",
       "    </tr>\n",
       "    <tr>\n",
       "      <th>25%</th>\n",
       "      <td>1.001495e+06</td>\n",
       "      <td>2.00000</td>\n",
       "      <td>0.000000</td>\n",
       "      <td>1.000000</td>\n",
       "      <td>5.000000</td>\n",
       "      <td>9.000000</td>\n",
       "      <td>5866.000000</td>\n",
       "    </tr>\n",
       "    <tr>\n",
       "      <th>50%</th>\n",
       "      <td>1.003031e+06</td>\n",
       "      <td>7.00000</td>\n",
       "      <td>0.000000</td>\n",
       "      <td>5.000000</td>\n",
       "      <td>9.000000</td>\n",
       "      <td>14.000000</td>\n",
       "      <td>8062.000000</td>\n",
       "    </tr>\n",
       "    <tr>\n",
       "      <th>75%</th>\n",
       "      <td>1.004417e+06</td>\n",
       "      <td>14.00000</td>\n",
       "      <td>1.000000</td>\n",
       "      <td>8.000000</td>\n",
       "      <td>15.000000</td>\n",
       "      <td>16.000000</td>\n",
       "      <td>12073.000000</td>\n",
       "    </tr>\n",
       "    <tr>\n",
       "      <th>max</th>\n",
       "      <td>1.006040e+06</td>\n",
       "      <td>20.00000</td>\n",
       "      <td>1.000000</td>\n",
       "      <td>18.000000</td>\n",
       "      <td>18.000000</td>\n",
       "      <td>18.000000</td>\n",
       "      <td>23961.000000</td>\n",
       "    </tr>\n",
       "  </tbody>\n",
       "</table>\n",
       "</div>"
      ],
      "text/plain": [
       "            User_ID    Occupation  Marital_Status  Product_Category_1  \\\n",
       "count  5.375770e+05  537577.00000   537577.000000       537577.000000   \n",
       "mean   1.002992e+06       8.08271        0.408797            5.295546   \n",
       "std    1.714393e+03       6.52412        0.491612            3.750701   \n",
       "min    1.000001e+06       0.00000        0.000000            1.000000   \n",
       "25%    1.001495e+06       2.00000        0.000000            1.000000   \n",
       "50%    1.003031e+06       7.00000        0.000000            5.000000   \n",
       "75%    1.004417e+06      14.00000        1.000000            8.000000   \n",
       "max    1.006040e+06      20.00000        1.000000           18.000000   \n",
       "\n",
       "       Product_Category_2  Product_Category_3       Purchase  \n",
       "count       370591.000000       164278.000000  537577.000000  \n",
       "mean             9.842144           12.669840    9333.859853  \n",
       "std              5.087259            4.124341    4981.022133  \n",
       "min              2.000000            3.000000     185.000000  \n",
       "25%              5.000000            9.000000    5866.000000  \n",
       "50%              9.000000           14.000000    8062.000000  \n",
       "75%             15.000000           16.000000   12073.000000  \n",
       "max             18.000000           18.000000   23961.000000  "
      ]
     },
     "execution_count": 3,
     "metadata": {},
     "output_type": "execute_result"
    }
   ],
   "source": [
    "# Basic statistical information\n",
    "df.describe()"
   ]
  },
  {
   "cell_type": "markdown",
   "metadata": {},
   "source": [
    "Quickly we can tell that there are missing values. The mean of the purchase amount seems to be around \\\\$9333 with a standard deviation of about \\\\$4981. I will see if my model can have a lower variance score."
   ]
  },
  {
   "cell_type": "code",
   "execution_count": 4,
   "metadata": {},
   "outputs": [
    {
     "data": {
      "text/plain": [
       "User_ID                         int64\n",
       "Product_ID                     object\n",
       "Gender                         object\n",
       "Age                            object\n",
       "Occupation                      int64\n",
       "City_Category                  object\n",
       "Stay_In_Current_City_Years     object\n",
       "Marital_Status                  int64\n",
       "Product_Category_1              int64\n",
       "Product_Category_2            float64\n",
       "Product_Category_3            float64\n",
       "Purchase                        int64\n",
       "dtype: object"
      ]
     },
     "execution_count": 4,
     "metadata": {},
     "output_type": "execute_result"
    }
   ],
   "source": [
    "# type of data in each column\n",
    "df.dtypes"
   ]
  },
  {
   "cell_type": "markdown",
   "metadata": {},
   "source": [
    "To visualize some important statistical information, I will convert all columns in the originial dataframe to numerical values and save it to a new dataset. Using `LabelEncoder` which will change categorical values to numerical `int` values."
   ]
  },
  {
   "cell_type": "code",
   "execution_count": 5,
   "metadata": {},
   "outputs": [
    {
     "data": {
      "text/html": [
       "<style  type=\"text/css\" >\n",
       "    #T_5f7cf228_361b_11e9_83ad_e09467b71c6crow0_col0 {\n",
       "            background-color:  #084081;\n",
       "            color:  #f1f1f1;\n",
       "        }    #T_5f7cf228_361b_11e9_83ad_e09467b71c6crow0_col1 {\n",
       "            background-color:  #ecf8e6;\n",
       "            color:  #000000;\n",
       "        }    #T_5f7cf228_361b_11e9_83ad_e09467b71c6crow0_col2 {\n",
       "            background-color:  #f2faeb;\n",
       "            color:  #000000;\n",
       "        }    #T_5f7cf228_361b_11e9_83ad_e09467b71c6crow0_col3 {\n",
       "            background-color:  #eef8e7;\n",
       "            color:  #000000;\n",
       "        }    #T_5f7cf228_361b_11e9_83ad_e09467b71c6crow0_col4 {\n",
       "            background-color:  #f7fcf0;\n",
       "            color:  #000000;\n",
       "        }    #T_5f7cf228_361b_11e9_83ad_e09467b71c6crow0_col5 {\n",
       "            background-color:  #edf8e7;\n",
       "            color:  #000000;\n",
       "        }    #T_5f7cf228_361b_11e9_83ad_e09467b71c6crow0_col6 {\n",
       "            background-color:  #f7fcf0;\n",
       "            color:  #000000;\n",
       "        }    #T_5f7cf228_361b_11e9_83ad_e09467b71c6crow0_col7 {\n",
       "            background-color:  #f2faeb;\n",
       "            color:  #000000;\n",
       "        }    #T_5f7cf228_361b_11e9_83ad_e09467b71c6crow0_col8 {\n",
       "            background-color:  #c6e9c2;\n",
       "            color:  #000000;\n",
       "        }    #T_5f7cf228_361b_11e9_83ad_e09467b71c6crow0_col9 {\n",
       "            background-color:  #d2edcc;\n",
       "            color:  #000000;\n",
       "        }    #T_5f7cf228_361b_11e9_83ad_e09467b71c6crow0_col10 {\n",
       "            background-color:  #d8f0d2;\n",
       "            color:  #000000;\n",
       "        }    #T_5f7cf228_361b_11e9_83ad_e09467b71c6crow0_col11 {\n",
       "            background-color:  #c6e9c2;\n",
       "            color:  #000000;\n",
       "        }    #T_5f7cf228_361b_11e9_83ad_e09467b71c6crow1_col0 {\n",
       "            background-color:  #f5fbee;\n",
       "            color:  #000000;\n",
       "        }    #T_5f7cf228_361b_11e9_83ad_e09467b71c6crow1_col1 {\n",
       "            background-color:  #084081;\n",
       "            color:  #f1f1f1;\n",
       "        }    #T_5f7cf228_361b_11e9_83ad_e09467b71c6crow1_col2 {\n",
       "            background-color:  #e9f7e3;\n",
       "            color:  #000000;\n",
       "        }    #T_5f7cf228_361b_11e9_83ad_e09467b71c6crow1_col3 {\n",
       "            background-color:  #f2faeb;\n",
       "            color:  #000000;\n",
       "        }    #T_5f7cf228_361b_11e9_83ad_e09467b71c6crow1_col4 {\n",
       "            background-color:  #f2faeb;\n",
       "            color:  #000000;\n",
       "        }    #T_5f7cf228_361b_11e9_83ad_e09467b71c6crow1_col5 {\n",
       "            background-color:  #f1faeb;\n",
       "            color:  #000000;\n",
       "        }    #T_5f7cf228_361b_11e9_83ad_e09467b71c6crow1_col6 {\n",
       "            background-color:  #f3faec;\n",
       "            color:  #000000;\n",
       "        }    #T_5f7cf228_361b_11e9_83ad_e09467b71c6crow1_col7 {\n",
       "            background-color:  #f3faec;\n",
       "            color:  #000000;\n",
       "        }    #T_5f7cf228_361b_11e9_83ad_e09467b71c6crow1_col8 {\n",
       "            background-color:  #c5e8c2;\n",
       "            color:  #000000;\n",
       "        }    #T_5f7cf228_361b_11e9_83ad_e09467b71c6crow1_col9 {\n",
       "            background-color:  #c0e6c0;\n",
       "            color:  #000000;\n",
       "        }    #T_5f7cf228_361b_11e9_83ad_e09467b71c6crow1_col10 {\n",
       "            background-color:  #c0e6c0;\n",
       "            color:  #000000;\n",
       "        }    #T_5f7cf228_361b_11e9_83ad_e09467b71c6crow1_col11 {\n",
       "            background-color:  #d3eecc;\n",
       "            color:  #000000;\n",
       "        }    #T_5f7cf228_361b_11e9_83ad_e09467b71c6crow2_col0 {\n",
       "            background-color:  #f7fcf0;\n",
       "            color:  #000000;\n",
       "        }    #T_5f7cf228_361b_11e9_83ad_e09467b71c6crow2_col1 {\n",
       "            background-color:  #e6f6e1;\n",
       "            color:  #000000;\n",
       "        }    #T_5f7cf228_361b_11e9_83ad_e09467b71c6crow2_col2 {\n",
       "            background-color:  #084081;\n",
       "            color:  #f1f1f1;\n",
       "        }    #T_5f7cf228_361b_11e9_83ad_e09467b71c6crow2_col3 {\n",
       "            background-color:  #f7fcf0;\n",
       "            color:  #000000;\n",
       "        }    #T_5f7cf228_361b_11e9_83ad_e09467b71c6crow2_col4 {\n",
       "            background-color:  #dff2da;\n",
       "            color:  #000000;\n",
       "        }    #T_5f7cf228_361b_11e9_83ad_e09467b71c6crow2_col5 {\n",
       "            background-color:  #f2faeb;\n",
       "            color:  #000000;\n",
       "        }    #T_5f7cf228_361b_11e9_83ad_e09467b71c6crow2_col6 {\n",
       "            background-color:  #f0f9e9;\n",
       "            color:  #000000;\n",
       "        }    #T_5f7cf228_361b_11e9_83ad_e09467b71c6crow2_col7 {\n",
       "            background-color:  #f7fcf0;\n",
       "            color:  #000000;\n",
       "        }    #T_5f7cf228_361b_11e9_83ad_e09467b71c6crow2_col8 {\n",
       "            background-color:  #d0edca;\n",
       "            color:  #000000;\n",
       "        }    #T_5f7cf228_361b_11e9_83ad_e09467b71c6crow2_col9 {\n",
       "            background-color:  #d4eece;\n",
       "            color:  #000000;\n",
       "        }    #T_5f7cf228_361b_11e9_83ad_e09467b71c6crow2_col10 {\n",
       "            background-color:  #d8f0d2;\n",
       "            color:  #000000;\n",
       "        }    #T_5f7cf228_361b_11e9_83ad_e09467b71c6crow2_col11 {\n",
       "            background-color:  #bbe4bd;\n",
       "            color:  #000000;\n",
       "        }    #T_5f7cf228_361b_11e9_83ad_e09467b71c6crow3_col0 {\n",
       "            background-color:  #eaf7e4;\n",
       "            color:  #000000;\n",
       "        }    #T_5f7cf228_361b_11e9_83ad_e09467b71c6crow3_col1 {\n",
       "            background-color:  #e6f5e0;\n",
       "            color:  #000000;\n",
       "        }    #T_5f7cf228_361b_11e9_83ad_e09467b71c6crow3_col2 {\n",
       "            background-color:  #eef8e7;\n",
       "            color:  #000000;\n",
       "        }    #T_5f7cf228_361b_11e9_83ad_e09467b71c6crow3_col3 {\n",
       "            background-color:  #084081;\n",
       "            color:  #f1f1f1;\n",
       "        }    #T_5f7cf228_361b_11e9_83ad_e09467b71c6crow3_col4 {\n",
       "            background-color:  #e3f4de;\n",
       "            color:  #000000;\n",
       "        }    #T_5f7cf228_361b_11e9_83ad_e09467b71c6crow3_col5 {\n",
       "            background-color:  #dff2da;\n",
       "            color:  #000000;\n",
       "        }    #T_5f7cf228_361b_11e9_83ad_e09467b71c6crow3_col6 {\n",
       "            background-color:  #f3faec;\n",
       "            color:  #000000;\n",
       "        }    #T_5f7cf228_361b_11e9_83ad_e09467b71c6crow3_col7 {\n",
       "            background-color:  #bae4bd;\n",
       "            color:  #000000;\n",
       "        }    #T_5f7cf228_361b_11e9_83ad_e09467b71c6crow3_col8 {\n",
       "            background-color:  #bae4bd;\n",
       "            color:  #000000;\n",
       "        }    #T_5f7cf228_361b_11e9_83ad_e09467b71c6crow3_col9 {\n",
       "            background-color:  #ceecc7;\n",
       "            color:  #000000;\n",
       "        }    #T_5f7cf228_361b_11e9_83ad_e09467b71c6crow3_col10 {\n",
       "            background-color:  #d2edcc;\n",
       "            color:  #000000;\n",
       "        }    #T_5f7cf228_361b_11e9_83ad_e09467b71c6crow3_col11 {\n",
       "            background-color:  #c2e7c0;\n",
       "            color:  #000000;\n",
       "        }    #T_5f7cf228_361b_11e9_83ad_e09467b71c6crow4_col0 {\n",
       "            background-color:  #f6fbef;\n",
       "            color:  #000000;\n",
       "        }    #T_5f7cf228_361b_11e9_83ad_e09467b71c6crow4_col1 {\n",
       "            background-color:  #e8f6e2;\n",
       "            color:  #000000;\n",
       "        }    #T_5f7cf228_361b_11e9_83ad_e09467b71c6crow4_col2 {\n",
       "            background-color:  #d9f0d3;\n",
       "            color:  #000000;\n",
       "        }    #T_5f7cf228_361b_11e9_83ad_e09467b71c6crow4_col3 {\n",
       "            background-color:  #e5f5e0;\n",
       "            color:  #000000;\n",
       "        }    #T_5f7cf228_361b_11e9_83ad_e09467b71c6crow4_col4 {\n",
       "            background-color:  #084081;\n",
       "            color:  #f1f1f1;\n",
       "        }    #T_5f7cf228_361b_11e9_83ad_e09467b71c6crow4_col5 {\n",
       "            background-color:  #ebf7e5;\n",
       "            color:  #000000;\n",
       "        }    #T_5f7cf228_361b_11e9_83ad_e09467b71c6crow4_col6 {\n",
       "            background-color:  #edf8e7;\n",
       "            color:  #000000;\n",
       "        }    #T_5f7cf228_361b_11e9_83ad_e09467b71c6crow4_col7 {\n",
       "            background-color:  #f2faeb;\n",
       "            color:  #000000;\n",
       "        }    #T_5f7cf228_361b_11e9_83ad_e09467b71c6crow4_col8 {\n",
       "            background-color:  #c9eac4;\n",
       "            color:  #000000;\n",
       "        }    #T_5f7cf228_361b_11e9_83ad_e09467b71c6crow4_col9 {\n",
       "            background-color:  #d3eecd;\n",
       "            color:  #000000;\n",
       "        }    #T_5f7cf228_361b_11e9_83ad_e09467b71c6crow4_col10 {\n",
       "            background-color:  #d5efcf;\n",
       "            color:  #000000;\n",
       "        }    #T_5f7cf228_361b_11e9_83ad_e09467b71c6crow4_col11 {\n",
       "            background-color:  #c2e7c0;\n",
       "            color:  #000000;\n",
       "        }    #T_5f7cf228_361b_11e9_83ad_e09467b71c6crow5_col0 {\n",
       "            background-color:  #edf8e7;\n",
       "            color:  #000000;\n",
       "        }    #T_5f7cf228_361b_11e9_83ad_e09467b71c6crow5_col1 {\n",
       "            background-color:  #e9f7e3;\n",
       "            color:  #000000;\n",
       "        }    #T_5f7cf228_361b_11e9_83ad_e09467b71c6crow5_col2 {\n",
       "            background-color:  #edf8e7;\n",
       "            color:  #000000;\n",
       "        }    #T_5f7cf228_361b_11e9_83ad_e09467b71c6crow5_col3 {\n",
       "            background-color:  #e3f4de;\n",
       "            color:  #000000;\n",
       "        }    #T_5f7cf228_361b_11e9_83ad_e09467b71c6crow5_col4 {\n",
       "            background-color:  #edf8e7;\n",
       "            color:  #000000;\n",
       "        }    #T_5f7cf228_361b_11e9_83ad_e09467b71c6crow5_col5 {\n",
       "            background-color:  #084081;\n",
       "            color:  #f1f1f1;\n",
       "        }    #T_5f7cf228_361b_11e9_83ad_e09467b71c6crow5_col6 {\n",
       "            background-color:  #eef9e8;\n",
       "            color:  #000000;\n",
       "        }    #T_5f7cf228_361b_11e9_83ad_e09467b71c6crow5_col7 {\n",
       "            background-color:  #eef8e7;\n",
       "            color:  #000000;\n",
       "        }    #T_5f7cf228_361b_11e9_83ad_e09467b71c6crow5_col8 {\n",
       "            background-color:  #ccebc6;\n",
       "            color:  #000000;\n",
       "        }    #T_5f7cf228_361b_11e9_83ad_e09467b71c6crow5_col9 {\n",
       "            background-color:  #d7efd1;\n",
       "            color:  #000000;\n",
       "        }    #T_5f7cf228_361b_11e9_83ad_e09467b71c6crow5_col10 {\n",
       "            background-color:  #d9f0d3;\n",
       "            color:  #000000;\n",
       "        }    #T_5f7cf228_361b_11e9_83ad_e09467b71c6crow5_col11 {\n",
       "            background-color:  #b9e3bc;\n",
       "            color:  #000000;\n",
       "        }    #T_5f7cf228_361b_11e9_83ad_e09467b71c6crow6_col0 {\n",
       "            background-color:  #f7fcf0;\n",
       "            color:  #000000;\n",
       "        }    #T_5f7cf228_361b_11e9_83ad_e09467b71c6crow6_col1 {\n",
       "            background-color:  #eaf7e4;\n",
       "            color:  #000000;\n",
       "        }    #T_5f7cf228_361b_11e9_83ad_e09467b71c6crow6_col2 {\n",
       "            background-color:  #eaf7e4;\n",
       "            color:  #000000;\n",
       "        }    #T_5f7cf228_361b_11e9_83ad_e09467b71c6crow6_col3 {\n",
       "            background-color:  #f7fcf0;\n",
       "            color:  #000000;\n",
       "        }    #T_5f7cf228_361b_11e9_83ad_e09467b71c6crow6_col4 {\n",
       "            background-color:  #eef9e8;\n",
       "            color:  #000000;\n",
       "        }    #T_5f7cf228_361b_11e9_83ad_e09467b71c6crow6_col5 {\n",
       "            background-color:  #eef8e7;\n",
       "            color:  #000000;\n",
       "        }    #T_5f7cf228_361b_11e9_83ad_e09467b71c6crow6_col6 {\n",
       "            background-color:  #084081;\n",
       "            color:  #f1f1f1;\n",
       "        }    #T_5f7cf228_361b_11e9_83ad_e09467b71c6crow6_col7 {\n",
       "            background-color:  #f7fcf0;\n",
       "            color:  #000000;\n",
       "        }    #T_5f7cf228_361b_11e9_83ad_e09467b71c6crow6_col8 {\n",
       "            background-color:  #c8eac3;\n",
       "            color:  #000000;\n",
       "        }    #T_5f7cf228_361b_11e9_83ad_e09467b71c6crow6_col9 {\n",
       "            background-color:  #d3eecc;\n",
       "            color:  #000000;\n",
       "        }    #T_5f7cf228_361b_11e9_83ad_e09467b71c6crow6_col10 {\n",
       "            background-color:  #d5eece;\n",
       "            color:  #000000;\n",
       "        }    #T_5f7cf228_361b_11e9_83ad_e09467b71c6crow6_col11 {\n",
       "            background-color:  #c5e8c2;\n",
       "            color:  #000000;\n",
       "        }    #T_5f7cf228_361b_11e9_83ad_e09467b71c6crow7_col0 {\n",
       "            background-color:  #eef9e8;\n",
       "            color:  #000000;\n",
       "        }    #T_5f7cf228_361b_11e9_83ad_e09467b71c6crow7_col1 {\n",
       "            background-color:  #e8f6e2;\n",
       "            color:  #000000;\n",
       "        }    #T_5f7cf228_361b_11e9_83ad_e09467b71c6crow7_col2 {\n",
       "            background-color:  #eef9e8;\n",
       "            color:  #000000;\n",
       "        }    #T_5f7cf228_361b_11e9_83ad_e09467b71c6crow7_col3 {\n",
       "            background-color:  #bbe4bd;\n",
       "            color:  #000000;\n",
       "        }    #T_5f7cf228_361b_11e9_83ad_e09467b71c6crow7_col4 {\n",
       "            background-color:  #f1f9ea;\n",
       "            color:  #000000;\n",
       "        }    #T_5f7cf228_361b_11e9_83ad_e09467b71c6crow7_col5 {\n",
       "            background-color:  #eaf7e4;\n",
       "            color:  #000000;\n",
       "        }    #T_5f7cf228_361b_11e9_83ad_e09467b71c6crow7_col6 {\n",
       "            background-color:  #f4fbed;\n",
       "            color:  #000000;\n",
       "        }    #T_5f7cf228_361b_11e9_83ad_e09467b71c6crow7_col7 {\n",
       "            background-color:  #084081;\n",
       "            color:  #f1f1f1;\n",
       "        }    #T_5f7cf228_361b_11e9_83ad_e09467b71c6crow7_col8 {\n",
       "            background-color:  #c3e7c1;\n",
       "            color:  #000000;\n",
       "        }    #T_5f7cf228_361b_11e9_83ad_e09467b71c6crow7_col9 {\n",
       "            background-color:  #d0edca;\n",
       "            color:  #000000;\n",
       "        }    #T_5f7cf228_361b_11e9_83ad_e09467b71c6crow7_col10 {\n",
       "            background-color:  #d3eecc;\n",
       "            color:  #000000;\n",
       "        }    #T_5f7cf228_361b_11e9_83ad_e09467b71c6crow7_col11 {\n",
       "            background-color:  #c6e9c2;\n",
       "            color:  #000000;\n",
       "        }    #T_5f7cf228_361b_11e9_83ad_e09467b71c6crow8_col0 {\n",
       "            background-color:  #f1faeb;\n",
       "            color:  #000000;\n",
       "        }    #T_5f7cf228_361b_11e9_83ad_e09467b71c6crow8_col1 {\n",
       "            background-color:  #e8f6e2;\n",
       "            color:  #000000;\n",
       "        }    #T_5f7cf228_361b_11e9_83ad_e09467b71c6crow8_col2 {\n",
       "            background-color:  #f7fcf0;\n",
       "            color:  #000000;\n",
       "        }    #T_5f7cf228_361b_11e9_83ad_e09467b71c6crow8_col3 {\n",
       "            background-color:  #ebf7e5;\n",
       "            color:  #000000;\n",
       "        }    #T_5f7cf228_361b_11e9_83ad_e09467b71c6crow8_col4 {\n",
       "            background-color:  #f6fcef;\n",
       "            color:  #000000;\n",
       "        }    #T_5f7cf228_361b_11e9_83ad_e09467b71c6crow8_col5 {\n",
       "            background-color:  #f7fcf0;\n",
       "            color:  #000000;\n",
       "        }    #T_5f7cf228_361b_11e9_83ad_e09467b71c6crow8_col6 {\n",
       "            background-color:  #f3fbed;\n",
       "            color:  #000000;\n",
       "        }    #T_5f7cf228_361b_11e9_83ad_e09467b71c6crow8_col7 {\n",
       "            background-color:  #f1faeb;\n",
       "            color:  #000000;\n",
       "        }    #T_5f7cf228_361b_11e9_83ad_e09467b71c6crow8_col8 {\n",
       "            background-color:  #084081;\n",
       "            color:  #f1f1f1;\n",
       "        }    #T_5f7cf228_361b_11e9_83ad_e09467b71c6crow8_col9 {\n",
       "            background-color:  #41a5cb;\n",
       "            color:  #000000;\n",
       "        }    #T_5f7cf228_361b_11e9_83ad_e09467b71c6crow8_col10 {\n",
       "            background-color:  #73c8c7;\n",
       "            color:  #000000;\n",
       "        }    #T_5f7cf228_361b_11e9_83ad_e09467b71c6crow8_col11 {\n",
       "            background-color:  #f7fcf0;\n",
       "            color:  #000000;\n",
       "        }    #T_5f7cf228_361b_11e9_83ad_e09467b71c6crow9_col0 {\n",
       "            background-color:  #f2faeb;\n",
       "            color:  #000000;\n",
       "        }    #T_5f7cf228_361b_11e9_83ad_e09467b71c6crow9_col1 {\n",
       "            background-color:  #daf0d4;\n",
       "            color:  #000000;\n",
       "        }    #T_5f7cf228_361b_11e9_83ad_e09467b71c6crow9_col2 {\n",
       "            background-color:  #eef9e8;\n",
       "            color:  #000000;\n",
       "        }    #T_5f7cf228_361b_11e9_83ad_e09467b71c6crow9_col3 {\n",
       "            background-color:  #f0f9e9;\n",
       "            color:  #000000;\n",
       "        }    #T_5f7cf228_361b_11e9_83ad_e09467b71c6crow9_col4 {\n",
       "            background-color:  #f5fbee;\n",
       "            color:  #000000;\n",
       "        }    #T_5f7cf228_361b_11e9_83ad_e09467b71c6crow9_col5 {\n",
       "            background-color:  #f7fcf0;\n",
       "            color:  #000000;\n",
       "        }    #T_5f7cf228_361b_11e9_83ad_e09467b71c6crow9_col6 {\n",
       "            background-color:  #f3faec;\n",
       "            color:  #000000;\n",
       "        }    #T_5f7cf228_361b_11e9_83ad_e09467b71c6crow9_col7 {\n",
       "            background-color:  #f3faec;\n",
       "            color:  #000000;\n",
       "        }    #T_5f7cf228_361b_11e9_83ad_e09467b71c6crow9_col8 {\n",
       "            background-color:  #3b9dc7;\n",
       "            color:  #000000;\n",
       "        }    #T_5f7cf228_361b_11e9_83ad_e09467b71c6crow9_col9 {\n",
       "            background-color:  #084081;\n",
       "            color:  #f1f1f1;\n",
       "        }    #T_5f7cf228_361b_11e9_83ad_e09467b71c6crow9_col10 {\n",
       "            background-color:  #4fb3d3;\n",
       "            color:  #000000;\n",
       "        }    #T_5f7cf228_361b_11e9_83ad_e09467b71c6crow9_col11 {\n",
       "            background-color:  #eaf7e4;\n",
       "            color:  #000000;\n",
       "        }    #T_5f7cf228_361b_11e9_83ad_e09467b71c6crow10_col0 {\n",
       "            background-color:  #f6fcef;\n",
       "            color:  #000000;\n",
       "        }    #T_5f7cf228_361b_11e9_83ad_e09467b71c6crow10_col1 {\n",
       "            background-color:  #d7efd1;\n",
       "            color:  #000000;\n",
       "        }    #T_5f7cf228_361b_11e9_83ad_e09467b71c6crow10_col2 {\n",
       "            background-color:  #f1f9ea;\n",
       "            color:  #000000;\n",
       "        }    #T_5f7cf228_361b_11e9_83ad_e09467b71c6crow10_col3 {\n",
       "            background-color:  #f3faec;\n",
       "            color:  #000000;\n",
       "        }    #T_5f7cf228_361b_11e9_83ad_e09467b71c6crow10_col4 {\n",
       "            background-color:  #f5fbee;\n",
       "            color:  #000000;\n",
       "        }    #T_5f7cf228_361b_11e9_83ad_e09467b71c6crow10_col5 {\n",
       "            background-color:  #f7fcf0;\n",
       "            color:  #000000;\n",
       "        }    #T_5f7cf228_361b_11e9_83ad_e09467b71c6crow10_col6 {\n",
       "            background-color:  #f2faeb;\n",
       "            color:  #000000;\n",
       "        }    #T_5f7cf228_361b_11e9_83ad_e09467b71c6crow10_col7 {\n",
       "            background-color:  #f3faec;\n",
       "            color:  #000000;\n",
       "        }    #T_5f7cf228_361b_11e9_83ad_e09467b71c6crow10_col8 {\n",
       "            background-color:  #64bfcc;\n",
       "            color:  #000000;\n",
       "        }    #T_5f7cf228_361b_11e9_83ad_e09467b71c6crow10_col9 {\n",
       "            background-color:  #4db2d3;\n",
       "            color:  #000000;\n",
       "        }    #T_5f7cf228_361b_11e9_83ad_e09467b71c6crow10_col10 {\n",
       "            background-color:  #084081;\n",
       "            color:  #f1f1f1;\n",
       "        }    #T_5f7cf228_361b_11e9_83ad_e09467b71c6crow10_col11 {\n",
       "            background-color:  #e7f6e2;\n",
       "            color:  #000000;\n",
       "        }    #T_5f7cf228_361b_11e9_83ad_e09467b71c6crow11_col0 {\n",
       "            background-color:  #f1faeb;\n",
       "            color:  #000000;\n",
       "        }    #T_5f7cf228_361b_11e9_83ad_e09467b71c6crow11_col1 {\n",
       "            background-color:  #f7fcf0;\n",
       "            color:  #000000;\n",
       "        }    #T_5f7cf228_361b_11e9_83ad_e09467b71c6crow11_col2 {\n",
       "            background-color:  #e3f4de;\n",
       "            color:  #000000;\n",
       "        }    #T_5f7cf228_361b_11e9_83ad_e09467b71c6crow11_col3 {\n",
       "            background-color:  #f2faeb;\n",
       "            color:  #000000;\n",
       "        }    #T_5f7cf228_361b_11e9_83ad_e09467b71c6crow11_col4 {\n",
       "            background-color:  #f0f9e9;\n",
       "            color:  #000000;\n",
       "        }    #T_5f7cf228_361b_11e9_83ad_e09467b71c6crow11_col5 {\n",
       "            background-color:  #e5f5e0;\n",
       "            color:  #000000;\n",
       "        }    #T_5f7cf228_361b_11e9_83ad_e09467b71c6crow11_col6 {\n",
       "            background-color:  #f1faeb;\n",
       "            color:  #000000;\n",
       "        }    #T_5f7cf228_361b_11e9_83ad_e09467b71c6crow11_col7 {\n",
       "            background-color:  #f5fbee;\n",
       "            color:  #000000;\n",
       "        }    #T_5f7cf228_361b_11e9_83ad_e09467b71c6crow11_col8 {\n",
       "            background-color:  #f7fcf0;\n",
       "            color:  #000000;\n",
       "        }    #T_5f7cf228_361b_11e9_83ad_e09467b71c6crow11_col9 {\n",
       "            background-color:  #f7fcf0;\n",
       "            color:  #000000;\n",
       "        }    #T_5f7cf228_361b_11e9_83ad_e09467b71c6crow11_col10 {\n",
       "            background-color:  #f7fcf0;\n",
       "            color:  #000000;\n",
       "        }    #T_5f7cf228_361b_11e9_83ad_e09467b71c6crow11_col11 {\n",
       "            background-color:  #084081;\n",
       "            color:  #f1f1f1;\n",
       "        }</style><table id=\"T_5f7cf228_361b_11e9_83ad_e09467b71c6c\" ><thead>    <tr>        <th class=\"blank level0\" ></th>        <th class=\"col_heading level0 col0\" >User_ID</th>        <th class=\"col_heading level0 col1\" >Product_ID</th>        <th class=\"col_heading level0 col2\" >Gender</th>        <th class=\"col_heading level0 col3\" >Age</th>        <th class=\"col_heading level0 col4\" >Occupation</th>        <th class=\"col_heading level0 col5\" >City_Category</th>        <th class=\"col_heading level0 col6\" >Stay_In_Current_City_Years</th>        <th class=\"col_heading level0 col7\" >Marital_Status</th>        <th class=\"col_heading level0 col8\" >Product_Category_1</th>        <th class=\"col_heading level0 col9\" >Product_Category_2</th>        <th class=\"col_heading level0 col10\" >Product_Category_3</th>        <th class=\"col_heading level0 col11\" >Purchase</th>    </tr></thead><tbody>\n",
       "                <tr>\n",
       "                        <th id=\"T_5f7cf228_361b_11e9_83ad_e09467b71c6clevel0_row0\" class=\"row_heading level0 row0\" >User_ID</th>\n",
       "                        <td id=\"T_5f7cf228_361b_11e9_83ad_e09467b71c6crow0_col0\" class=\"data row0 col0\" >1</td>\n",
       "                        <td id=\"T_5f7cf228_361b_11e9_83ad_e09467b71c6crow0_col1\" class=\"data row0 col1\" >-0.016</td>\n",
       "                        <td id=\"T_5f7cf228_361b_11e9_83ad_e09467b71c6crow0_col2\" class=\"data row0 col2\" >-0.031</td>\n",
       "                        <td id=\"T_5f7cf228_361b_11e9_83ad_e09467b71c6crow0_col3\" class=\"data row0 col3\" >0.046</td>\n",
       "                        <td id=\"T_5f7cf228_361b_11e9_83ad_e09467b71c6crow0_col4\" class=\"data row0 col4\" >-0.021</td>\n",
       "                        <td id=\"T_5f7cf228_361b_11e9_83ad_e09467b71c6crow0_col5\" class=\"data row0 col5\" >0.026</td>\n",
       "                        <td id=\"T_5f7cf228_361b_11e9_83ad_e09467b71c6crow0_col6\" class=\"data row0 col6\" >-0.03</td>\n",
       "                        <td id=\"T_5f7cf228_361b_11e9_83ad_e09467b71c6crow0_col7\" class=\"data row0 col7\" >0.019</td>\n",
       "                        <td id=\"T_5f7cf228_361b_11e9_83ad_e09467b71c6crow0_col8\" class=\"data row0 col8\" >0.0024</td>\n",
       "                        <td id=\"T_5f7cf228_361b_11e9_83ad_e09467b71c6crow0_col9\" class=\"data row0 col9\" >0.0014</td>\n",
       "                        <td id=\"T_5f7cf228_361b_11e9_83ad_e09467b71c6crow0_col10\" class=\"data row0 col10\" >-0.026</td>\n",
       "                        <td id=\"T_5f7cf228_361b_11e9_83ad_e09467b71c6crow0_col11\" class=\"data row0 col11\" >0.0043</td>\n",
       "            </tr>\n",
       "            <tr>\n",
       "                        <th id=\"T_5f7cf228_361b_11e9_83ad_e09467b71c6clevel0_row1\" class=\"row_heading level0 row1\" >Product_ID</th>\n",
       "                        <td id=\"T_5f7cf228_361b_11e9_83ad_e09467b71c6crow1_col0\" class=\"data row1 col0\" >-0.016</td>\n",
       "                        <td id=\"T_5f7cf228_361b_11e9_83ad_e09467b71c6crow1_col1\" class=\"data row1 col1\" >1</td>\n",
       "                        <td id=\"T_5f7cf228_361b_11e9_83ad_e09467b71c6crow1_col2\" class=\"data row1 col2\" >0.018</td>\n",
       "                        <td id=\"T_5f7cf228_361b_11e9_83ad_e09467b71c6crow1_col3\" class=\"data row1 col3\" >0.022</td>\n",
       "                        <td id=\"T_5f7cf228_361b_11e9_83ad_e09467b71c6crow1_col4\" class=\"data row1 col4\" >0.0081</td>\n",
       "                        <td id=\"T_5f7cf228_361b_11e9_83ad_e09467b71c6crow1_col5\" class=\"data row1 col5\" >0.00085</td>\n",
       "                        <td id=\"T_5f7cf228_361b_11e9_83ad_e09467b71c6crow1_col6\" class=\"data row1 col6\" >-0.0018</td>\n",
       "                        <td id=\"T_5f7cf228_361b_11e9_83ad_e09467b71c6crow1_col7\" class=\"data row1 col7\" >0.011</td>\n",
       "                        <td id=\"T_5f7cf228_361b_11e9_83ad_e09467b71c6crow1_col8\" class=\"data row1 col8\" >0.0098</td>\n",
       "                        <td id=\"T_5f7cf228_361b_11e9_83ad_e09467b71c6crow1_col9\" class=\"data row1 col9\" >0.1</td>\n",
       "                        <td id=\"T_5f7cf228_361b_11e9_83ad_e09467b71c6crow1_col10\" class=\"data row1 col10\" >0.12</td>\n",
       "                        <td id=\"T_5f7cf228_361b_11e9_83ad_e09467b71c6crow1_col11\" class=\"data row1 col11\" >-0.081</td>\n",
       "            </tr>\n",
       "            <tr>\n",
       "                        <th id=\"T_5f7cf228_361b_11e9_83ad_e09467b71c6clevel0_row2\" class=\"row_heading level0 row2\" >Gender</th>\n",
       "                        <td id=\"T_5f7cf228_361b_11e9_83ad_e09467b71c6crow2_col0\" class=\"data row2 col0\" >-0.031</td>\n",
       "                        <td id=\"T_5f7cf228_361b_11e9_83ad_e09467b71c6crow2_col1\" class=\"data row2 col1\" >0.018</td>\n",
       "                        <td id=\"T_5f7cf228_361b_11e9_83ad_e09467b71c6crow2_col2\" class=\"data row2 col2\" >1</td>\n",
       "                        <td id=\"T_5f7cf228_361b_11e9_83ad_e09467b71c6crow2_col3\" class=\"data row2 col3\" >-0.0058</td>\n",
       "                        <td id=\"T_5f7cf228_361b_11e9_83ad_e09467b71c6crow2_col4\" class=\"data row2 col4\" >0.12</td>\n",
       "                        <td id=\"T_5f7cf228_361b_11e9_83ad_e09467b71c6crow2_col5\" class=\"data row2 col5\" >-0.004</td>\n",
       "                        <td id=\"T_5f7cf228_361b_11e9_83ad_e09467b71c6crow2_col6\" class=\"data row2 col6\" >0.014</td>\n",
       "                        <td id=\"T_5f7cf228_361b_11e9_83ad_e09467b71c6crow2_col7\" class=\"data row2 col7\" >-0.01</td>\n",
       "                        <td id=\"T_5f7cf228_361b_11e9_83ad_e09467b71c6crow2_col8\" class=\"data row2 col8\" >-0.063</td>\n",
       "                        <td id=\"T_5f7cf228_361b_11e9_83ad_e09467b71c6crow2_col9\" class=\"data row2 col9\" >-0.012</td>\n",
       "                        <td id=\"T_5f7cf228_361b_11e9_83ad_e09467b71c6crow2_col10\" class=\"data row2 col10\" >-0.024</td>\n",
       "                        <td id=\"T_5f7cf228_361b_11e9_83ad_e09467b71c6crow2_col11\" class=\"data row2 col11\" >0.054</td>\n",
       "            </tr>\n",
       "            <tr>\n",
       "                        <th id=\"T_5f7cf228_361b_11e9_83ad_e09467b71c6clevel0_row3\" class=\"row_heading level0 row3\" >Age</th>\n",
       "                        <td id=\"T_5f7cf228_361b_11e9_83ad_e09467b71c6crow3_col0\" class=\"data row3 col0\" >0.046</td>\n",
       "                        <td id=\"T_5f7cf228_361b_11e9_83ad_e09467b71c6crow3_col1\" class=\"data row3 col1\" >0.022</td>\n",
       "                        <td id=\"T_5f7cf228_361b_11e9_83ad_e09467b71c6crow3_col2\" class=\"data row3 col2\" >-0.0058</td>\n",
       "                        <td id=\"T_5f7cf228_361b_11e9_83ad_e09467b71c6crow3_col3\" class=\"data row3 col3\" >1</td>\n",
       "                        <td id=\"T_5f7cf228_361b_11e9_83ad_e09467b71c6crow3_col4\" class=\"data row3 col4\" >0.093</td>\n",
       "                        <td id=\"T_5f7cf228_361b_11e9_83ad_e09467b71c6crow3_col5\" class=\"data row3 col5\" >0.11</td>\n",
       "                        <td id=\"T_5f7cf228_361b_11e9_83ad_e09467b71c6crow3_col6\" class=\"data row3 col6\" >-0.0023</td>\n",
       "                        <td id=\"T_5f7cf228_361b_11e9_83ad_e09467b71c6crow3_col7\" class=\"data row3 col7\" >0.31</td>\n",
       "                        <td id=\"T_5f7cf228_361b_11e9_83ad_e09467b71c6crow3_col8\" class=\"data row3 col8\" >0.063</td>\n",
       "                        <td id=\"T_5f7cf228_361b_11e9_83ad_e09467b71c6crow3_col9\" class=\"data row3 col9\" >0.036</td>\n",
       "                        <td id=\"T_5f7cf228_361b_11e9_83ad_e09467b71c6crow3_col10\" class=\"data row3 col10\" >0.02</td>\n",
       "                        <td id=\"T_5f7cf228_361b_11e9_83ad_e09467b71c6crow3_col11\" class=\"data row3 col11\" >0.022</td>\n",
       "            </tr>\n",
       "            <tr>\n",
       "                        <th id=\"T_5f7cf228_361b_11e9_83ad_e09467b71c6clevel0_row4\" class=\"row_heading level0 row4\" >Occupation</th>\n",
       "                        <td id=\"T_5f7cf228_361b_11e9_83ad_e09467b71c6crow4_col0\" class=\"data row4 col0\" >-0.021</td>\n",
       "                        <td id=\"T_5f7cf228_361b_11e9_83ad_e09467b71c6crow4_col1\" class=\"data row4 col1\" >0.0081</td>\n",
       "                        <td id=\"T_5f7cf228_361b_11e9_83ad_e09467b71c6crow4_col2\" class=\"data row4 col2\" >0.12</td>\n",
       "                        <td id=\"T_5f7cf228_361b_11e9_83ad_e09467b71c6crow4_col3\" class=\"data row4 col3\" >0.093</td>\n",
       "                        <td id=\"T_5f7cf228_361b_11e9_83ad_e09467b71c6crow4_col4\" class=\"data row4 col4\" >1</td>\n",
       "                        <td id=\"T_5f7cf228_361b_11e9_83ad_e09467b71c6crow4_col5\" class=\"data row4 col5\" >0.037</td>\n",
       "                        <td id=\"T_5f7cf228_361b_11e9_83ad_e09467b71c6crow4_col6\" class=\"data row4 col6\" >0.03</td>\n",
       "                        <td id=\"T_5f7cf228_361b_11e9_83ad_e09467b71c6crow4_col7\" class=\"data row4 col7\" >0.017</td>\n",
       "                        <td id=\"T_5f7cf228_361b_11e9_83ad_e09467b71c6crow4_col8\" class=\"data row4 col8\" >-0.016</td>\n",
       "                        <td id=\"T_5f7cf228_361b_11e9_83ad_e09467b71c6crow4_col9\" class=\"data row4 col9\" >-0.0076</td>\n",
       "                        <td id=\"T_5f7cf228_361b_11e9_83ad_e09467b71c6crow4_col10\" class=\"data row4 col10\" >-0.0064</td>\n",
       "                        <td id=\"T_5f7cf228_361b_11e9_83ad_e09467b71c6crow4_col11\" class=\"data row4 col11\" >0.023</td>\n",
       "            </tr>\n",
       "            <tr>\n",
       "                        <th id=\"T_5f7cf228_361b_11e9_83ad_e09467b71c6clevel0_row5\" class=\"row_heading level0 row5\" >City_Category</th>\n",
       "                        <td id=\"T_5f7cf228_361b_11e9_83ad_e09467b71c6crow5_col0\" class=\"data row5 col0\" >0.026</td>\n",
       "                        <td id=\"T_5f7cf228_361b_11e9_83ad_e09467b71c6crow5_col1\" class=\"data row5 col1\" >0.00085</td>\n",
       "                        <td id=\"T_5f7cf228_361b_11e9_83ad_e09467b71c6crow5_col2\" class=\"data row5 col2\" >-0.004</td>\n",
       "                        <td id=\"T_5f7cf228_361b_11e9_83ad_e09467b71c6crow5_col3\" class=\"data row5 col3\" >0.11</td>\n",
       "                        <td id=\"T_5f7cf228_361b_11e9_83ad_e09467b71c6crow5_col4\" class=\"data row5 col4\" >0.037</td>\n",
       "                        <td id=\"T_5f7cf228_361b_11e9_83ad_e09467b71c6crow5_col5\" class=\"data row5 col5\" >1</td>\n",
       "                        <td id=\"T_5f7cf228_361b_11e9_83ad_e09467b71c6crow5_col6\" class=\"data row5 col6\" >0.021</td>\n",
       "                        <td id=\"T_5f7cf228_361b_11e9_83ad_e09467b71c6crow5_col7\" class=\"data row5 col7\" >0.04</td>\n",
       "                        <td id=\"T_5f7cf228_361b_11e9_83ad_e09467b71c6crow5_col8\" class=\"data row5 col8\" >-0.032</td>\n",
       "                        <td id=\"T_5f7cf228_361b_11e9_83ad_e09467b71c6crow5_col9\" class=\"data row5 col9\" >-0.033</td>\n",
       "                        <td id=\"T_5f7cf228_361b_11e9_83ad_e09467b71c6crow5_col10\" class=\"data row5 col10\" >-0.034</td>\n",
       "                        <td id=\"T_5f7cf228_361b_11e9_83ad_e09467b71c6crow5_col11\" class=\"data row5 col11\" >0.069</td>\n",
       "            </tr>\n",
       "            <tr>\n",
       "                        <th id=\"T_5f7cf228_361b_11e9_83ad_e09467b71c6clevel0_row6\" class=\"row_heading level0 row6\" >Stay_In_Current_City_Years</th>\n",
       "                        <td id=\"T_5f7cf228_361b_11e9_83ad_e09467b71c6crow6_col0\" class=\"data row6 col0\" >-0.03</td>\n",
       "                        <td id=\"T_5f7cf228_361b_11e9_83ad_e09467b71c6crow6_col1\" class=\"data row6 col1\" >-0.0018</td>\n",
       "                        <td id=\"T_5f7cf228_361b_11e9_83ad_e09467b71c6crow6_col2\" class=\"data row6 col2\" >0.014</td>\n",
       "                        <td id=\"T_5f7cf228_361b_11e9_83ad_e09467b71c6crow6_col3\" class=\"data row6 col3\" >-0.0023</td>\n",
       "                        <td id=\"T_5f7cf228_361b_11e9_83ad_e09467b71c6crow6_col4\" class=\"data row6 col4\" >0.03</td>\n",
       "                        <td id=\"T_5f7cf228_361b_11e9_83ad_e09467b71c6crow6_col5\" class=\"data row6 col5\" >0.021</td>\n",
       "                        <td id=\"T_5f7cf228_361b_11e9_83ad_e09467b71c6crow6_col6\" class=\"data row6 col6\" >1</td>\n",
       "                        <td id=\"T_5f7cf228_361b_11e9_83ad_e09467b71c6crow6_col7\" class=\"data row6 col7\" >-0.013</td>\n",
       "                        <td id=\"T_5f7cf228_361b_11e9_83ad_e09467b71c6crow6_col8\" class=\"data row6 col8\" >-0.0058</td>\n",
       "                        <td id=\"T_5f7cf228_361b_11e9_83ad_e09467b71c6crow6_col9\" class=\"data row6 col9\" >-0.0043</td>\n",
       "                        <td id=\"T_5f7cf228_361b_11e9_83ad_e09467b71c6crow6_col10\" class=\"data row6 col10\" >-0.00087</td>\n",
       "                        <td id=\"T_5f7cf228_361b_11e9_83ad_e09467b71c6crow6_col11\" class=\"data row6 col11\" >0.006</td>\n",
       "            </tr>\n",
       "            <tr>\n",
       "                        <th id=\"T_5f7cf228_361b_11e9_83ad_e09467b71c6clevel0_row7\" class=\"row_heading level0 row7\" >Marital_Status</th>\n",
       "                        <td id=\"T_5f7cf228_361b_11e9_83ad_e09467b71c6crow7_col0\" class=\"data row7 col0\" >0.019</td>\n",
       "                        <td id=\"T_5f7cf228_361b_11e9_83ad_e09467b71c6crow7_col1\" class=\"data row7 col1\" >0.011</td>\n",
       "                        <td id=\"T_5f7cf228_361b_11e9_83ad_e09467b71c6crow7_col2\" class=\"data row7 col2\" >-0.01</td>\n",
       "                        <td id=\"T_5f7cf228_361b_11e9_83ad_e09467b71c6crow7_col3\" class=\"data row7 col3\" >0.31</td>\n",
       "                        <td id=\"T_5f7cf228_361b_11e9_83ad_e09467b71c6crow7_col4\" class=\"data row7 col4\" >0.017</td>\n",
       "                        <td id=\"T_5f7cf228_361b_11e9_83ad_e09467b71c6crow7_col5\" class=\"data row7 col5\" >0.04</td>\n",
       "                        <td id=\"T_5f7cf228_361b_11e9_83ad_e09467b71c6crow7_col6\" class=\"data row7 col6\" >-0.013</td>\n",
       "                        <td id=\"T_5f7cf228_361b_11e9_83ad_e09467b71c6crow7_col7\" class=\"data row7 col7\" >1</td>\n",
       "                        <td id=\"T_5f7cf228_361b_11e9_83ad_e09467b71c6crow7_col8\" class=\"data row7 col8\" >0.021</td>\n",
       "                        <td id=\"T_5f7cf228_361b_11e9_83ad_e09467b71c6crow7_col9\" class=\"data row7 col9\" >0.014</td>\n",
       "                        <td id=\"T_5f7cf228_361b_11e9_83ad_e09467b71c6crow7_col10\" class=\"data row7 col10\" >0.011</td>\n",
       "                        <td id=\"T_5f7cf228_361b_11e9_83ad_e09467b71c6crow7_col11\" class=\"data row7 col11\" >0.0018</td>\n",
       "            </tr>\n",
       "            <tr>\n",
       "                        <th id=\"T_5f7cf228_361b_11e9_83ad_e09467b71c6clevel0_row8\" class=\"row_heading level0 row8\" >Product_Category_1</th>\n",
       "                        <td id=\"T_5f7cf228_361b_11e9_83ad_e09467b71c6crow8_col0\" class=\"data row8 col0\" >0.0024</td>\n",
       "                        <td id=\"T_5f7cf228_361b_11e9_83ad_e09467b71c6crow8_col1\" class=\"data row8 col1\" >0.0098</td>\n",
       "                        <td id=\"T_5f7cf228_361b_11e9_83ad_e09467b71c6crow8_col2\" class=\"data row8 col2\" >-0.063</td>\n",
       "                        <td id=\"T_5f7cf228_361b_11e9_83ad_e09467b71c6crow8_col3\" class=\"data row8 col3\" >0.063</td>\n",
       "                        <td id=\"T_5f7cf228_361b_11e9_83ad_e09467b71c6crow8_col4\" class=\"data row8 col4\" >-0.016</td>\n",
       "                        <td id=\"T_5f7cf228_361b_11e9_83ad_e09467b71c6crow8_col5\" class=\"data row8 col5\" >-0.032</td>\n",
       "                        <td id=\"T_5f7cf228_361b_11e9_83ad_e09467b71c6crow8_col6\" class=\"data row8 col6\" >-0.0058</td>\n",
       "                        <td id=\"T_5f7cf228_361b_11e9_83ad_e09467b71c6crow8_col7\" class=\"data row8 col7\" >0.021</td>\n",
       "                        <td id=\"T_5f7cf228_361b_11e9_83ad_e09467b71c6crow8_col8\" class=\"data row8 col8\" >1</td>\n",
       "                        <td id=\"T_5f7cf228_361b_11e9_83ad_e09467b71c6crow8_col9\" class=\"data row8 col9\" >0.58</td>\n",
       "                        <td id=\"T_5f7cf228_361b_11e9_83ad_e09467b71c6crow8_col10\" class=\"data row8 col10\" >0.41</td>\n",
       "                        <td id=\"T_5f7cf228_361b_11e9_83ad_e09467b71c6crow8_col11\" class=\"data row8 col11\" >-0.37</td>\n",
       "            </tr>\n",
       "            <tr>\n",
       "                        <th id=\"T_5f7cf228_361b_11e9_83ad_e09467b71c6clevel0_row9\" class=\"row_heading level0 row9\" >Product_Category_2</th>\n",
       "                        <td id=\"T_5f7cf228_361b_11e9_83ad_e09467b71c6crow9_col0\" class=\"data row9 col0\" >0.0014</td>\n",
       "                        <td id=\"T_5f7cf228_361b_11e9_83ad_e09467b71c6crow9_col1\" class=\"data row9 col1\" >0.1</td>\n",
       "                        <td id=\"T_5f7cf228_361b_11e9_83ad_e09467b71c6crow9_col2\" class=\"data row9 col2\" >-0.012</td>\n",
       "                        <td id=\"T_5f7cf228_361b_11e9_83ad_e09467b71c6crow9_col3\" class=\"data row9 col3\" >0.036</td>\n",
       "                        <td id=\"T_5f7cf228_361b_11e9_83ad_e09467b71c6crow9_col4\" class=\"data row9 col4\" >-0.0076</td>\n",
       "                        <td id=\"T_5f7cf228_361b_11e9_83ad_e09467b71c6crow9_col5\" class=\"data row9 col5\" >-0.033</td>\n",
       "                        <td id=\"T_5f7cf228_361b_11e9_83ad_e09467b71c6crow9_col6\" class=\"data row9 col6\" >-0.0043</td>\n",
       "                        <td id=\"T_5f7cf228_361b_11e9_83ad_e09467b71c6crow9_col7\" class=\"data row9 col7\" >0.014</td>\n",
       "                        <td id=\"T_5f7cf228_361b_11e9_83ad_e09467b71c6crow9_col8\" class=\"data row9 col8\" >0.58</td>\n",
       "                        <td id=\"T_5f7cf228_361b_11e9_83ad_e09467b71c6crow9_col9\" class=\"data row9 col9\" >1</td>\n",
       "                        <td id=\"T_5f7cf228_361b_11e9_83ad_e09467b71c6crow9_col10\" class=\"data row9 col10\" >0.53</td>\n",
       "                        <td id=\"T_5f7cf228_361b_11e9_83ad_e09467b71c6crow9_col11\" class=\"data row9 col11\" >-0.27</td>\n",
       "            </tr>\n",
       "            <tr>\n",
       "                        <th id=\"T_5f7cf228_361b_11e9_83ad_e09467b71c6clevel0_row10\" class=\"row_heading level0 row10\" >Product_Category_3</th>\n",
       "                        <td id=\"T_5f7cf228_361b_11e9_83ad_e09467b71c6crow10_col0\" class=\"data row10 col0\" >-0.026</td>\n",
       "                        <td id=\"T_5f7cf228_361b_11e9_83ad_e09467b71c6crow10_col1\" class=\"data row10 col1\" >0.12</td>\n",
       "                        <td id=\"T_5f7cf228_361b_11e9_83ad_e09467b71c6crow10_col2\" class=\"data row10 col2\" >-0.024</td>\n",
       "                        <td id=\"T_5f7cf228_361b_11e9_83ad_e09467b71c6crow10_col3\" class=\"data row10 col3\" >0.02</td>\n",
       "                        <td id=\"T_5f7cf228_361b_11e9_83ad_e09467b71c6crow10_col4\" class=\"data row10 col4\" >-0.0064</td>\n",
       "                        <td id=\"T_5f7cf228_361b_11e9_83ad_e09467b71c6crow10_col5\" class=\"data row10 col5\" >-0.034</td>\n",
       "                        <td id=\"T_5f7cf228_361b_11e9_83ad_e09467b71c6crow10_col6\" class=\"data row10 col6\" >-0.00087</td>\n",
       "                        <td id=\"T_5f7cf228_361b_11e9_83ad_e09467b71c6crow10_col7\" class=\"data row10 col7\" >0.011</td>\n",
       "                        <td id=\"T_5f7cf228_361b_11e9_83ad_e09467b71c6crow10_col8\" class=\"data row10 col8\" >0.41</td>\n",
       "                        <td id=\"T_5f7cf228_361b_11e9_83ad_e09467b71c6crow10_col9\" class=\"data row10 col9\" >0.53</td>\n",
       "                        <td id=\"T_5f7cf228_361b_11e9_83ad_e09467b71c6crow10_col10\" class=\"data row10 col10\" >1</td>\n",
       "                        <td id=\"T_5f7cf228_361b_11e9_83ad_e09467b71c6crow10_col11\" class=\"data row10 col11\" >-0.25</td>\n",
       "            </tr>\n",
       "            <tr>\n",
       "                        <th id=\"T_5f7cf228_361b_11e9_83ad_e09467b71c6clevel0_row11\" class=\"row_heading level0 row11\" >Purchase</th>\n",
       "                        <td id=\"T_5f7cf228_361b_11e9_83ad_e09467b71c6crow11_col0\" class=\"data row11 col0\" >0.0043</td>\n",
       "                        <td id=\"T_5f7cf228_361b_11e9_83ad_e09467b71c6crow11_col1\" class=\"data row11 col1\" >-0.081</td>\n",
       "                        <td id=\"T_5f7cf228_361b_11e9_83ad_e09467b71c6crow11_col2\" class=\"data row11 col2\" >0.054</td>\n",
       "                        <td id=\"T_5f7cf228_361b_11e9_83ad_e09467b71c6crow11_col3\" class=\"data row11 col3\" >0.022</td>\n",
       "                        <td id=\"T_5f7cf228_361b_11e9_83ad_e09467b71c6crow11_col4\" class=\"data row11 col4\" >0.023</td>\n",
       "                        <td id=\"T_5f7cf228_361b_11e9_83ad_e09467b71c6crow11_col5\" class=\"data row11 col5\" >0.069</td>\n",
       "                        <td id=\"T_5f7cf228_361b_11e9_83ad_e09467b71c6crow11_col6\" class=\"data row11 col6\" >0.006</td>\n",
       "                        <td id=\"T_5f7cf228_361b_11e9_83ad_e09467b71c6crow11_col7\" class=\"data row11 col7\" >0.0018</td>\n",
       "                        <td id=\"T_5f7cf228_361b_11e9_83ad_e09467b71c6crow11_col8\" class=\"data row11 col8\" >-0.37</td>\n",
       "                        <td id=\"T_5f7cf228_361b_11e9_83ad_e09467b71c6crow11_col9\" class=\"data row11 col9\" >-0.27</td>\n",
       "                        <td id=\"T_5f7cf228_361b_11e9_83ad_e09467b71c6crow11_col10\" class=\"data row11 col10\" >-0.25</td>\n",
       "                        <td id=\"T_5f7cf228_361b_11e9_83ad_e09467b71c6crow11_col11\" class=\"data row11 col11\" >1</td>\n",
       "            </tr>\n",
       "    </tbody></table>"
      ],
      "text/plain": [
       "<pandas.io.formats.style.Styler at 0x20de9190f98>"
      ]
     },
     "execution_count": 5,
     "metadata": {},
     "output_type": "execute_result"
    }
   ],
   "source": [
    "from sklearn.preprocessing import LabelEncoder\n",
    "\n",
    "# use numerical results for correlation matrix\n",
    "st = df.apply(LabelEncoder().fit_transform)\n",
    "\n",
    "# the corr() method automatically ignores null values \n",
    "st.corr(method = 'spearman').style.background_gradient(cmap = 'GnBu').set_precision(2)"
   ]
  },
  {
   "cell_type": "markdown",
   "metadata": {},
   "source": [
    "We notice that the highest correlations occur between the product categories and the purchase price which we are trying to predict."
   ]
  },
  {
   "cell_type": "markdown",
   "metadata": {},
   "source": [
    "Let's explore the data some more and look at different distributions."
   ]
  },
  {
   "cell_type": "code",
   "execution_count": 6,
   "metadata": {},
   "outputs": [
    {
     "data": {
      "image/png": "[encoded data removed]",
      "text/plain": [
       "<Figure size 720x576 with 1 Axes>"
      ]
     },
     "metadata": {
      "needs_background": "light"
     },
     "output_type": "display_data"
    }
   ],
   "source": [
    "plt.figure(figsize=(10,8))\n",
    "df['Purchase'].plot.hist(bins=12, alpha=0.5);\n",
    "plt.xlabel('Dollar amount');\n",
    "plt.ylabel('Number of buyers');\n",
    "plt.title('Total Purchase Distribution');\n",
    "plt.show()"
   ]
  },
  {
   "cell_type": "markdown",
   "metadata": {},
   "source": [
    "There is a peak of dollar amount that the customers are willing to spend on Black Friday."
   ]
  },
  {
   "cell_type": "code",
   "execution_count": 7,
   "metadata": {},
   "outputs": [
    {
     "data": {
      "image/png": "[encoded data removed]",
      "text/plain": [
       "<Figure size 1440x576 with 2 Axes>"
      ]
     },
     "metadata": {
      "needs_background": "light"
     },
     "output_type": "display_data"
    }
   ],
   "source": [
    "plt.figure(figsize=(20,8))\n",
    "\n",
    "plt.subplot(121)\n",
    "pd.value_counts(df['Occupation']).plot.bar();\n",
    "plt.xlabel('Occupation Type');\n",
    "plt.ylabel('Count');\n",
    "plt.title('Distribution of different occupations')\n",
    "\n",
    "plt.subplot(122)\n",
    "pd.value_counts(df['Occupation']).plot.pie(autopct='%.2f');\n",
    "plt.xlabel('');\n",
    "plt.ylabel('');\n",
    "plt.title('Pie chart of different occupations')\n",
    "plt.show()"
   ]
  },
  {
   "cell_type": "markdown",
   "metadata": {},
   "source": [
    "Certain occupations have more purchasing power than others."
   ]
  },
  {
   "cell_type": "code",
   "execution_count": 8,
   "metadata": {},
   "outputs": [
    {
     "data": {
      "image/png": "[encoded data removed]",
      "text/plain": [
       "<Figure size 720x288 with 2 Axes>"
      ]
     },
     "metadata": {
      "needs_background": "light"
     },
     "output_type": "display_data"
    }
   ],
   "source": [
    "plt.figure(figsize=(10,4))\n",
    "\n",
    "plt.subplot(121)\n",
    "pd.value_counts(df['City_Category']).plot.bar();\n",
    "plt.xlabel('City Category');\n",
    "plt.ylabel('Count');\n",
    "plt.title('Distribution of city categories of buyers')\n",
    "\n",
    "plt.subplot(122)\n",
    "pd.value_counts(df['City_Category']).plot.pie(autopct='%.2f');\n",
    "plt.xlabel('');\n",
    "plt.ylabel('');\n",
    "plt.title('Pie chart of city categories of buyers')\n",
    "plt.show()"
   ]
  },
  {
   "cell_type": "markdown",
   "metadata": {},
   "source": [
    "City category `B` has the highest number of buyers on a Black Friday"
   ]
  },
  {
   "cell_type": "code",
   "execution_count": 9,
   "metadata": {},
   "outputs": [
    {
     "data": {
      "image/png": "[encoded data removed]",
      "text/plain": [
       "<Figure size 720x288 with 2 Axes>"
      ]
     },
     "metadata": {
      "needs_background": "light"
     },
     "output_type": "display_data"
    }
   ],
   "source": [
    "plt.figure(figsize=(10,4))\n",
    "\n",
    "plt.subplot(121)\n",
    "pd.value_counts(df['Gender']).plot.bar();\n",
    "plt.xlabel('Gender');\n",
    "plt.ylabel('Count');\n",
    "plt.title('Distribution of gender of buyers')\n",
    "\n",
    "plt.subplot(122)\n",
    "pd.value_counts(df['Gender']).plot.pie(autopct='%.2f');\n",
    "plt.xlabel('');\n",
    "plt.ylabel('');\n",
    "plt.title('Pie chart of gender of buyers')\n",
    "plt.show()"
   ]
  },
  {
   "cell_type": "markdown",
   "metadata": {},
   "source": [
    "It appears that there are more male buyers on Black Friday "
   ]
  },
  {
   "cell_type": "code",
   "execution_count": 10,
   "metadata": {},
   "outputs": [
    {
     "data": {
      "image/png": "[encoded data removed]",
      "text/plain": [
       "<Figure size 720x288 with 2 Axes>"
      ]
     },
     "metadata": {
      "needs_background": "light"
     },
     "output_type": "display_data"
    }
   ],
   "source": [
    "plt.figure(figsize=(10,4))\n",
    "\n",
    "plt.subplot(121)\n",
    "pd.value_counts(df['Age']).plot.bar();\n",
    "plt.xlabel('Age Group');\n",
    "plt.ylabel('Count');\n",
    "plt.title('Distribution of age groups of buyers')\n",
    "\n",
    "plt.subplot(122)\n",
    "pd.value_counts(df['Age']).plot.pie(autopct='%.2f');\n",
    "plt.xlabel('');\n",
    "plt.ylabel('');\n",
    "plt.title('Pie chart of age groups of buyers')\n",
    "plt.show()"
   ]
  },
  {
   "cell_type": "markdown",
   "metadata": {},
   "source": [
    "The majority of buyers are between the ages of 26-35 and goes down per age group"
   ]
  },
  {
   "cell_type": "code",
   "execution_count": 11,
   "metadata": {},
   "outputs": [
    {
     "data": {
      "image/png": "[encoded data removed]",
      "text/plain": [
       "<Figure size 720x288 with 2 Axes>"
      ]
     },
     "metadata": {
      "needs_background": "light"
     },
     "output_type": "display_data"
    }
   ],
   "source": [
    "plt.figure(figsize=(10,4))\n",
    "\n",
    "plt.subplot(121)\n",
    "pd.value_counts(df['Marital_Status']).plot.bar();\n",
    "plt.xlabel('Marital Status');\n",
    "plt.ylabel('Count');\n",
    "plt.title('Distribution of Marital Status of buyers\\n 0 = Single, 1 = Married')\n",
    "\n",
    "plt.subplot(122)\n",
    "pd.value_counts(df['Marital_Status']).plot.pie(autopct='%.2f');\n",
    "plt.xlabel('');\n",
    "plt.ylabel('');\n",
    "plt.title('Pie chart of Marital Status of buyers')\n",
    "plt.show()"
   ]
  },
  {
   "cell_type": "markdown",
   "metadata": {},
   "source": [
    "Singles form a slightly larger majority of the buyers"
   ]
  },
  {
   "cell_type": "markdown",
   "metadata": {},
   "source": [
    "**Data Cleaning**\n",
    "\n",
    "Here I will clean up the dataset by removing unnecessary columns and dealing with missing values."
   ]
  },
  {
   "cell_type": "code",
   "execution_count": 12,
   "metadata": {
    "scrolled": true
   },
   "outputs": [],
   "source": [
    "# these columns are unnecessary for my regression analysis\n",
    "\n",
    "df = df.drop(columns = ['User_ID', 'Product_ID'])"
   ]
  },
  {
   "cell_type": "markdown",
   "metadata": {},
   "source": [
    "Check for missing values"
   ]
  },
  {
   "cell_type": "code",
   "execution_count": 13,
   "metadata": {},
   "outputs": [
    {
     "name": "stdout",
     "output_type": "stream",
     "text": [
      "Product_Category_3    69.441029\n",
      "Product_Category_2    31.062713\n",
      "dtype: float64 %\n"
     ]
    }
   ],
   "source": [
    "missing_values = df.isnull().sum().sort_values(ascending = False)\n",
    "missing_values = missing_values[missing_values > 0]/df.shape[0]\n",
    "print(f'{missing_values *100} %')"
   ]
  },
  {
   "cell_type": "markdown",
   "metadata": {},
   "source": [
    "Since both of these columns contain numerical data, I will use `Imputer` on both of them to replace missing values with the mean value for each column."
   ]
  },
  {
   "cell_type": "code",
   "execution_count": 14,
   "metadata": {},
   "outputs": [
    {
     "name": "stderr",
     "output_type": "stream",
     "text": [
      "E:\\ProgramData\\Anaconda3\\lib\\site-packages\\sklearn\\utils\\deprecation.py:58: DeprecationWarning: Class Imputer is deprecated; Imputer was deprecated in version 0.20 and will be removed in 0.22. Import impute.SimpleImputer from sklearn instead.\n",
      "  warnings.warn(msg, category=DeprecationWarning)\n"
     ]
    },
    {
     "data": {
      "text/html": [
       "<div>\n",
       "<style scoped>\n",
       "    .dataframe tbody tr th:only-of-type {\n",
       "        vertical-align: middle;\n",
       "    }\n",
       "\n",
       "    .dataframe tbody tr th {\n",
       "        vertical-align: top;\n",
       "    }\n",
       "\n",
       "    .dataframe thead th {\n",
       "        text-align: right;\n",
       "    }\n",
       "</style>\n",
       "<table border=\"1\" class=\"dataframe\">\n",
       "  <thead>\n",
       "    <tr style=\"text-align: right;\">\n",
       "      <th></th>\n",
       "      <th>Product_Category_2</th>\n",
       "      <th>Product_Category_3</th>\n",
       "    </tr>\n",
       "  </thead>\n",
       "  <tbody>\n",
       "    <tr>\n",
       "      <th>0</th>\n",
       "      <td>9.842144</td>\n",
       "      <td>12.66984</td>\n",
       "    </tr>\n",
       "    <tr>\n",
       "      <th>1</th>\n",
       "      <td>6.000000</td>\n",
       "      <td>14.00000</td>\n",
       "    </tr>\n",
       "    <tr>\n",
       "      <th>2</th>\n",
       "      <td>9.842144</td>\n",
       "      <td>12.66984</td>\n",
       "    </tr>\n",
       "    <tr>\n",
       "      <th>3</th>\n",
       "      <td>14.000000</td>\n",
       "      <td>12.66984</td>\n",
       "    </tr>\n",
       "    <tr>\n",
       "      <th>4</th>\n",
       "      <td>9.842144</td>\n",
       "      <td>12.66984</td>\n",
       "    </tr>\n",
       "  </tbody>\n",
       "</table>\n",
       "</div>"
      ],
      "text/plain": [
       "   Product_Category_2  Product_Category_3\n",
       "0            9.842144            12.66984\n",
       "1            6.000000            14.00000\n",
       "2            9.842144            12.66984\n",
       "3           14.000000            12.66984\n",
       "4            9.842144            12.66984"
      ]
     },
     "execution_count": 14,
     "metadata": {},
     "output_type": "execute_result"
    }
   ],
   "source": [
    "from sklearn.preprocessing import Imputer\n",
    "\n",
    "df[['Product_Category_2', 'Product_Category_3']] = Imputer(strategy='mean').fit_transform(df[['Product_Category_2', 'Product_Category_3']]\n",
    ")\n",
    "\n",
    "df[['Product_Category_2', 'Product_Category_3']].head()"
   ]
  },
  {
   "cell_type": "code",
   "execution_count": 15,
   "metadata": {},
   "outputs": [
    {
     "name": "stdout",
     "output_type": "stream",
     "text": [
      "Series([], dtype: float64) %\n"
     ]
    }
   ],
   "source": [
    "missing_values = df.isnull().sum().sort_values(ascending = False)\n",
    "missing_values = missing_values[missing_values > 0]/df.shape[0]\n",
    "print(f'{missing_values *100} %')"
   ]
  },
  {
   "cell_type": "markdown",
   "metadata": {},
   "source": [
    "No more missing values\n",
    "\n",
    "Next task is to convert strings into numerical fields"
   ]
  },
  {
   "cell_type": "code",
   "execution_count": 16,
   "metadata": {},
   "outputs": [
    {
     "data": {
      "text/plain": [
       "Gender                         object\n",
       "Age                            object\n",
       "Occupation                      int64\n",
       "City_Category                  object\n",
       "Stay_In_Current_City_Years     object\n",
       "Marital_Status                  int64\n",
       "Product_Category_1              int64\n",
       "Product_Category_2            float64\n",
       "Product_Category_3            float64\n",
       "Purchase                        int64\n",
       "dtype: object"
      ]
     },
     "execution_count": 16,
     "metadata": {},
     "output_type": "execute_result"
    }
   ],
   "source": [
    "df.dtypes"
   ]
  },
  {
   "cell_type": "markdown",
   "metadata": {},
   "source": [
    "Using `get_dummies` we can convert `str` fields into `float` or `int` "
   ]
  },
  {
   "cell_type": "code",
   "execution_count": 17,
   "metadata": {},
   "outputs": [
    {
     "data": {
      "text/html": [
       "<div>\n",
       "<style scoped>\n",
       "    .dataframe tbody tr th:only-of-type {\n",
       "        vertical-align: middle;\n",
       "    }\n",
       "\n",
       "    .dataframe tbody tr th {\n",
       "        vertical-align: top;\n",
       "    }\n",
       "\n",
       "    .dataframe thead th {\n",
       "        text-align: right;\n",
       "    }\n",
       "</style>\n",
       "<table border=\"1\" class=\"dataframe\">\n",
       "  <thead>\n",
       "    <tr style=\"text-align: right;\">\n",
       "      <th></th>\n",
       "      <th>Occupation</th>\n",
       "      <th>Marital_Status</th>\n",
       "      <th>Product_Category_1</th>\n",
       "      <th>Product_Category_2</th>\n",
       "      <th>Product_Category_3</th>\n",
       "      <th>Purchase</th>\n",
       "      <th>Gender_F</th>\n",
       "      <th>Gender_M</th>\n",
       "      <th>Age_0-17</th>\n",
       "      <th>Age_18-25</th>\n",
       "      <th>...</th>\n",
       "      <th>Age_51-55</th>\n",
       "      <th>Age_55+</th>\n",
       "      <th>City_Category_A</th>\n",
       "      <th>City_Category_B</th>\n",
       "      <th>City_Category_C</th>\n",
       "      <th>Stay_In_Current_City_Years_0</th>\n",
       "      <th>Stay_In_Current_City_Years_1</th>\n",
       "      <th>Stay_In_Current_City_Years_2</th>\n",
       "      <th>Stay_In_Current_City_Years_3</th>\n",
       "      <th>Stay_In_Current_City_Years_4+</th>\n",
       "    </tr>\n",
       "  </thead>\n",
       "  <tbody>\n",
       "    <tr>\n",
       "      <th>0</th>\n",
       "      <td>10.0</td>\n",
       "      <td>0.0</td>\n",
       "      <td>3.0</td>\n",
       "      <td>9.842144</td>\n",
       "      <td>12.66984</td>\n",
       "      <td>8370.0</td>\n",
       "      <td>1</td>\n",
       "      <td>0</td>\n",
       "      <td>1</td>\n",
       "      <td>0</td>\n",
       "      <td>...</td>\n",
       "      <td>0</td>\n",
       "      <td>0</td>\n",
       "      <td>1</td>\n",
       "      <td>0</td>\n",
       "      <td>0</td>\n",
       "      <td>0</td>\n",
       "      <td>0</td>\n",
       "      <td>1</td>\n",
       "      <td>0</td>\n",
       "      <td>0</td>\n",
       "    </tr>\n",
       "    <tr>\n",
       "      <th>1</th>\n",
       "      <td>10.0</td>\n",
       "      <td>0.0</td>\n",
       "      <td>1.0</td>\n",
       "      <td>6.000000</td>\n",
       "      <td>14.00000</td>\n",
       "      <td>15200.0</td>\n",
       "      <td>1</td>\n",
       "      <td>0</td>\n",
       "      <td>1</td>\n",
       "      <td>0</td>\n",
       "      <td>...</td>\n",
       "      <td>0</td>\n",
       "      <td>0</td>\n",
       "      <td>1</td>\n",
       "      <td>0</td>\n",
       "      <td>0</td>\n",
       "      <td>0</td>\n",
       "      <td>0</td>\n",
       "      <td>1</td>\n",
       "      <td>0</td>\n",
       "      <td>0</td>\n",
       "    </tr>\n",
       "    <tr>\n",
       "      <th>2</th>\n",
       "      <td>10.0</td>\n",
       "      <td>0.0</td>\n",
       "      <td>12.0</td>\n",
       "      <td>9.842144</td>\n",
       "      <td>12.66984</td>\n",
       "      <td>1422.0</td>\n",
       "      <td>1</td>\n",
       "      <td>0</td>\n",
       "      <td>1</td>\n",
       "      <td>0</td>\n",
       "      <td>...</td>\n",
       "      <td>0</td>\n",
       "      <td>0</td>\n",
       "      <td>1</td>\n",
       "      <td>0</td>\n",
       "      <td>0</td>\n",
       "      <td>0</td>\n",
       "      <td>0</td>\n",
       "      <td>1</td>\n",
       "      <td>0</td>\n",
       "      <td>0</td>\n",
       "    </tr>\n",
       "    <tr>\n",
       "      <th>3</th>\n",
       "      <td>10.0</td>\n",
       "      <td>0.0</td>\n",
       "      <td>12.0</td>\n",
       "      <td>14.000000</td>\n",
       "      <td>12.66984</td>\n",
       "      <td>1057.0</td>\n",
       "      <td>1</td>\n",
       "      <td>0</td>\n",
       "      <td>1</td>\n",
       "      <td>0</td>\n",
       "      <td>...</td>\n",
       "      <td>0</td>\n",
       "      <td>0</td>\n",
       "      <td>1</td>\n",
       "      <td>0</td>\n",
       "      <td>0</td>\n",
       "      <td>0</td>\n",
       "      <td>0</td>\n",
       "      <td>1</td>\n",
       "      <td>0</td>\n",
       "      <td>0</td>\n",
       "    </tr>\n",
       "    <tr>\n",
       "      <th>4</th>\n",
       "      <td>16.0</td>\n",
       "      <td>0.0</td>\n",
       "      <td>8.0</td>\n",
       "      <td>9.842144</td>\n",
       "      <td>12.66984</td>\n",
       "      <td>7969.0</td>\n",
       "      <td>0</td>\n",
       "      <td>1</td>\n",
       "      <td>0</td>\n",
       "      <td>0</td>\n",
       "      <td>...</td>\n",
       "      <td>0</td>\n",
       "      <td>1</td>\n",
       "      <td>0</td>\n",
       "      <td>0</td>\n",
       "      <td>1</td>\n",
       "      <td>0</td>\n",
       "      <td>0</td>\n",
       "      <td>0</td>\n",
       "      <td>0</td>\n",
       "      <td>1</td>\n",
       "    </tr>\n",
       "  </tbody>\n",
       "</table>\n",
       "<p>5 rows × 23 columns</p>\n",
       "</div>"
      ],
      "text/plain": [
       "   Occupation  Marital_Status  Product_Category_1  Product_Category_2  \\\n",
       "0        10.0             0.0                 3.0            9.842144   \n",
       "1        10.0             0.0                 1.0            6.000000   \n",
       "2        10.0             0.0                12.0            9.842144   \n",
       "3        10.0             0.0                12.0           14.000000   \n",
       "4        16.0             0.0                 8.0            9.842144   \n",
       "\n",
       "   Product_Category_3  Purchase  Gender_F  Gender_M  Age_0-17  Age_18-25  ...  \\\n",
       "0            12.66984    8370.0         1         0         1          0  ...   \n",
       "1            14.00000   15200.0         1         0         1          0  ...   \n",
       "2            12.66984    1422.0         1         0         1          0  ...   \n",
       "3            12.66984    1057.0         1         0         1          0  ...   \n",
       "4            12.66984    7969.0         0         1         0          0  ...   \n",
       "\n",
       "   Age_51-55  Age_55+  City_Category_A  City_Category_B  City_Category_C  \\\n",
       "0          0        0                1                0                0   \n",
       "1          0        0                1                0                0   \n",
       "2          0        0                1                0                0   \n",
       "3          0        0                1                0                0   \n",
       "4          0        1                0                0                1   \n",
       "\n",
       "   Stay_In_Current_City_Years_0  Stay_In_Current_City_Years_1  \\\n",
       "0                             0                             0   \n",
       "1                             0                             0   \n",
       "2                             0                             0   \n",
       "3                             0                             0   \n",
       "4                             0                             0   \n",
       "\n",
       "   Stay_In_Current_City_Years_2  Stay_In_Current_City_Years_3  \\\n",
       "0                             1                             0   \n",
       "1                             1                             0   \n",
       "2                             1                             0   \n",
       "3                             1                             0   \n",
       "4                             0                             0   \n",
       "\n",
       "   Stay_In_Current_City_Years_4+  \n",
       "0                              0  \n",
       "1                              0  \n",
       "2                              0  \n",
       "3                              0  \n",
       "4                              1  \n",
       "\n",
       "[5 rows x 23 columns]"
      ]
     },
     "execution_count": 17,
     "metadata": {},
     "output_type": "execute_result"
    }
   ],
   "source": [
    "# first convert these int columns to float before using get_dummies to prevent it from transforming them\n",
    "cols = ['Occupation', 'Marital_Status', 'Product_Category_1', 'Purchase']\n",
    "df[cols] = df[cols].astype(float)\n",
    "\n",
    "\n",
    "# apply get_dummies\n",
    "df = pd.get_dummies(df)\n",
    "\n",
    "df.head()"
   ]
  },
  {
   "cell_type": "code",
   "execution_count": 18,
   "metadata": {},
   "outputs": [
    {
     "data": {
      "text/plain": [
       "Occupation                       float64\n",
       "Marital_Status                   float64\n",
       "Product_Category_1               float64\n",
       "Product_Category_2               float64\n",
       "Product_Category_3               float64\n",
       "Purchase                         float64\n",
       "Gender_F                           uint8\n",
       "Gender_M                           uint8\n",
       "Age_0-17                           uint8\n",
       "Age_18-25                          uint8\n",
       "Age_26-35                          uint8\n",
       "Age_36-45                          uint8\n",
       "Age_46-50                          uint8\n",
       "Age_51-55                          uint8\n",
       "Age_55+                            uint8\n",
       "City_Category_A                    uint8\n",
       "City_Category_B                    uint8\n",
       "City_Category_C                    uint8\n",
       "Stay_In_Current_City_Years_0       uint8\n",
       "Stay_In_Current_City_Years_1       uint8\n",
       "Stay_In_Current_City_Years_2       uint8\n",
       "Stay_In_Current_City_Years_3       uint8\n",
       "Stay_In_Current_City_Years_4+      uint8\n",
       "dtype: object"
      ]
     },
     "execution_count": 18,
     "metadata": {},
     "output_type": "execute_result"
    }
   ],
   "source": [
    "df.dtypes"
   ]
  },
  {
   "cell_type": "markdown",
   "metadata": {},
   "source": [
    "Now all of our data is displayed in numerical values and is ready for regression analysis."
   ]
  },
  {
   "cell_type": "code",
   "execution_count": 19,
   "metadata": {},
   "outputs": [],
   "source": [
    "# split into matrix X and vector y\n",
    "X = df.drop(columns = 'Purchase').astype(float).values\n",
    "y = df['Purchase'].values"
   ]
  },
  {
   "cell_type": "markdown",
   "metadata": {},
   "source": [
    "Apply `StandardScaler` to scale all features then split into training and testing sets to check for fitting later on."
   ]
  },
  {
   "cell_type": "code",
   "execution_count": 20,
   "metadata": {},
   "outputs": [],
   "source": [
    "from sklearn.preprocessing import StandardScaler\n",
    "\n",
    "# scale the features matrix\n",
    "X = StandardScaler().fit_transform(X)\n",
    "# add a row of ones for constant theta values\n",
    "X = np.c_[np.ones(len(X)), X]\n",
    "\n",
    "from sklearn.model_selection import train_test_split\n",
    "\n",
    "# split into training and testing sets\n",
    "X_train, X_test, y_train, y_test = train_test_split(\n",
    "    X, y, test_size=0.1, random_state=42)"
   ]
  },
  {
   "cell_type": "markdown",
   "metadata": {},
   "source": [
    "- - -\n",
    "## 3. IMPLEMENTATION OF GRADIENT DESCENT AND NORMAL EQUATION\n",
    "\n",
    "##### Description of the class `MyLinearRegression`:\n",
    "\n",
    "* `self.fitUsingGradientDescent` method will use batch gradient descent to find the optimal $\\theta$ values. Uses the following parameters:\n",
    "    - `alpha` ($\\alpha$) defines the learning rate. Has a default value of 0.1 unless specified otherwise.\n",
    "    - `iters` defines the number of iterations to find the optimal theta value, default set to 100 iterations.\n",
    "    - `self.cost_record` is an array containing the cost value for each iteration.\n",
    "* `self.fitUsingNormalEquation` method will use the normal equation, $\n",
    "    \\mathbf{\\theta} = ({\\mathbf{X}^{T}\\mathbf{X}})^{-1}\\mathbf{X}^{T}\\mathbf{y}\n",
    "$, to find the optimal theta value.\n",
    "\n",
    "* `self.theta` will return the coefficients (or weights) of each feature including the constant term $\\theta_{0}$\n",
    "* `self.cost`, or $J(\\theta)$, will return the MSE value or cost of implementing of this method."
   ]
  },
  {
   "cell_type": "code",
   "execution_count": 21,
   "metadata": {},
   "outputs": [],
   "source": [
    "class MyLinearRegression:\n",
    "    def __init__(self):\n",
    "        return None\n",
    "    \n",
    "    def fitUsingGradientDescent(self, X_train, y_train, alpha = 0.1, iters = 100):\n",
    "                \n",
    "        # assume theta to be some random array and modify it later\n",
    "        theta = np.random.rand(len(X_train[0])) \n",
    "        \n",
    "        m = len(y_train)\n",
    "                \n",
    "        cost_record = [] # to record the cost at every iteration\n",
    "        \n",
    "        # loop through the number of iterations to minimize cost value\n",
    "        for i in range(iters):\n",
    "            pred = X_train.dot(theta)\n",
    "            grad = 2/m * X_train.T.dot( pred - y_train )\n",
    "            theta = theta - alpha * grad\n",
    "            cost = 1/m * np.sum(np.square(X_train.dot(theta) - y_train)) \n",
    "            cost_record.append(cost)\n",
    "        \n",
    "        # save these values to the object\n",
    "        self.cost_record = cost_record\n",
    "        self.cost = cost\n",
    "        self.theta = theta\n",
    "    \n",
    "    def fitUsingNormalEquation(self, X_train, y_train):\n",
    "                        \n",
    "        self.theta = np.linalg.pinv(X_train.T.dot(X_train)).dot(X_train.T).dot(y_train)\n",
    "        \n",
    "        self.cost = 1/len(y_train) * (X_train.dot(self.theta)-y_train).T.dot(X_train.dot(self.theta)-y_train)\n",
    "        \n",
    "    def predict(self, X_test):\n",
    "                \n",
    "        return X_test.dot(self.theta)\n",
    "    \n",
    "    def cal_cost(self, X_test, y_test):\n",
    "        return 1/len(y_test) * (X_test.dot(self.theta)-y_test).T.dot(X_test.dot(self.theta)-y_test)"
   ]
  },
  {
   "cell_type": "markdown",
   "metadata": {},
   "source": [
    "* **Learning Rate:** Finding the rate at which the gradient descent will converge. I will test a few values for the learning rate."
   ]
  },
  {
   "cell_type": "code",
   "execution_count": 22,
   "metadata": {},
   "outputs": [
    {
     "name": "stdout",
     "output_type": "stream",
     "text": [
      "The cost is about 2.48155e+09\n"
     ]
    },
    {
     "data": {
      "image/png": "[encoded data removed]",
      "text/plain": [
       "<Figure size 432x288 with 1 Axes>"
      ]
     },
     "metadata": {
      "needs_background": "light"
     },
     "output_type": "display_data"
    }
   ],
   "source": [
    "myGradientDescentModel = MyLinearRegression()\n",
    "\n",
    "myGradientDescentModel.fitUsingGradientDescent(X_train, y_train, alpha = 0.5, iters = 100)\n",
    "print(\"The cost is about %g\" % myGradientDescentModel.cost)\n",
    "\n",
    "plt.plot(myGradientDescentModel.cost_record)\n",
    "\n",
    "plt.xlabel('Iterations')  \n",
    "plt.ylabel('Cost')  \n",
    "plt.title('Error vs. Training Iterations')  \n",
    "\n",
    "plt.show()"
   ]
  },
  {
   "cell_type": "markdown",
   "metadata": {},
   "source": [
    "With a learning rate of 0.5 and 100 iterations, the model seems to diverge. Let's try a much smaller learning rate at 50 iterations."
   ]
  },
  {
   "cell_type": "code",
   "execution_count": 23,
   "metadata": {},
   "outputs": [
    {
     "name": "stdout",
     "output_type": "stream",
     "text": [
      "The cost is about 3.38407e+07\n"
     ]
    },
    {
     "data": {
      "image/png": "[encoded data removed]",
      "text/plain": [
       "<Figure size 432x288 with 1 Axes>"
      ]
     },
     "metadata": {
      "needs_background": "light"
     },
     "output_type": "display_data"
    }
   ],
   "source": [
    "myGradientDescentModel = MyLinearRegression()\n",
    "\n",
    "myGradientDescentModel.fitUsingGradientDescent(X_train, y_train, alpha = 0.01, iters = 50)\n",
    "print(\"The cost is about %g\" % myGradientDescentModel.cost)\n",
    "\n",
    "plt.plot(myGradientDescentModel.cost_record)\n",
    "\n",
    "plt.xlabel('Iterations')  \n",
    "plt.ylabel('Cost')  \n",
    "plt.title('Error vs. Training Iterations')  \n",
    "\n",
    "plt.show()"
   ]
  },
  {
   "cell_type": "markdown",
   "metadata": {},
   "source": [
    "This is decaying but not quickly enough, let's turn back the number of iterations to 100 and turn up the learning rate to 0.3."
   ]
  },
  {
   "cell_type": "code",
   "execution_count": 24,
   "metadata": {},
   "outputs": [
    {
     "name": "stdout",
     "output_type": "stream",
     "text": [
      "The cost is about 2.20336e+07\n"
     ]
    },
    {
     "data": {
      "image/png": "[encoded data removed]",
      "text/plain": [
       "<Figure size 432x288 with 1 Axes>"
      ]
     },
     "metadata": {
      "needs_background": "light"
     },
     "output_type": "display_data"
    }
   ],
   "source": [
    "myGradientDescentModel = MyLinearRegression()\n",
    "\n",
    "myGradientDescentModel.fitUsingGradientDescent(X_train, y_train, alpha = 0.3, iters = 100)\n",
    "print(\"The cost is about %g\" % myGradientDescentModel.cost)\n",
    "\n",
    "plt.plot(myGradientDescentModel.cost_record)\n",
    "\n",
    "plt.xlabel('Iterations')  \n",
    "plt.ylabel('Cost')  \n",
    "plt.title('Error vs. Training Iterations')  \n",
    "\n",
    "plt.show()"
   ]
  },
  {
   "cell_type": "markdown",
   "metadata": {},
   "source": [
    "Perfect! this learning rate converges quickly to that cost value. Let's check if that is the lowest cost value with our linear model using the normal equation"
   ]
  },
  {
   "cell_type": "code",
   "execution_count": 25,
   "metadata": {},
   "outputs": [
    {
     "name": "stdout",
     "output_type": "stream",
     "text": [
      "The cost using gradient descent is about 2.20336e+07\n"
     ]
    }
   ],
   "source": [
    "print(\"The cost using gradient descent is about %g\" % myGradientDescentModel.cost)"
   ]
  },
  {
   "cell_type": "code",
   "execution_count": 26,
   "metadata": {},
   "outputs": [
    {
     "name": "stdout",
     "output_type": "stream",
     "text": [
      "The cost using normal equation is about 2.20366e+07\n"
     ]
    }
   ],
   "source": [
    "myNormalEquationModel = MyLinearRegression()\n",
    "\n",
    "myNormalEquationModel.fitUsingNormalEquation(X_train, y_train)\n",
    "\n",
    "print(\"The cost using normal equation is about %g\" % myNormalEquationModel.cost)"
   ]
  },
  {
   "cell_type": "code",
   "execution_count": 27,
   "metadata": {},
   "outputs": [
    {
     "name": "stdout",
     "output_type": "stream",
     "text": [
      "Percent difference between Normal Equation and Gradient Decent cost is 0.00013743 %\n"
     ]
    }
   ],
   "source": [
    "a = myGradientDescentModel.cost\n",
    "b = myNormalEquationModel.cost\n",
    "\n",
    "print('Percent difference between Normal Equation and Gradient Decent cost is {:.5} %'.format((b-a)/b))"
   ]
  },
  {
   "cell_type": "markdown",
   "metadata": {},
   "source": [
    "Splendid! We now have successfully implemented the gradient descent and obtained a cost value close to the optimal theta value."
   ]
  },
  {
   "cell_type": "markdown",
   "metadata": {},
   "source": [
    "- - -\n",
    "## 4. IMPLEMENTATION OF THE NORMAL EQUATION "
   ]
  },
  {
   "cell_type": "markdown",
   "metadata": {},
   "source": [
    "We have previously implemented the normal equation model earlier. Here it is again with the predictions for our values and the minimum cost value."
   ]
  },
  {
   "cell_type": "code",
   "execution_count": 28,
   "metadata": {},
   "outputs": [
    {
     "name": "stdout",
     "output_type": "stream",
     "text": [
      "The cost using normal equation on training data is about 2.20366e+07\n",
      "The cost using normal equation on testing data is about 2.21753e+07\n"
     ]
    }
   ],
   "source": [
    "myNormalEquationModel = MyLinearRegression()\n",
    "\n",
    "myNormalEquationModel.fitUsingNormalEquation(X_train, y_train)\n",
    "\n",
    "print(\"The cost using normal equation on training data is about %g\" % myNormalEquationModel.cost)\n",
    "\n",
    "myNormalEquationModel.predict(X_test)\n",
    "\n",
    "print('The cost using normal equation on testing data is about %g' % myNormalEquationModel.cal_cost(X_test, y_test))"
   ]
  },
  {
   "cell_type": "markdown",
   "metadata": {},
   "source": [
    "- - -\n",
    "## 5. COMPARISON OF DIFFERENT IMPLEMENTATIONS "
   ]
  },
  {
   "cell_type": "markdown",
   "metadata": {},
   "source": [
    "Here I am evaluating my model against the `SGDRegressor` method from `scikit-learn`. \n",
    "\n",
    "It appears that all models have a very similar RMSE, but my model seems to have a better result than the SGD model."
   ]
  },
  {
   "cell_type": "code",
   "execution_count": 29,
   "metadata": {},
   "outputs": [
    {
     "name": "stderr",
     "output_type": "stream",
     "text": [
      "E:\\ProgramData\\Anaconda3\\lib\\site-packages\\sklearn\\linear_model\\stochastic_gradient.py:166: FutureWarning: max_iter and tol parameters have been added in SGDRegressor in 0.19. If both are left unset, they default to max_iter=5 and tol=None. If tol is not None, max_iter defaults to max_iter=1000. From 0.21, default max_iter will be 1000, and default tol will be 1e-3.\n",
      "  FutureWarning)\n"
     ]
    },
    {
     "name": "stdout",
     "output_type": "stream",
     "text": [
      "SGD Model rmse = 4715.6\n",
      "Batch Gradient Descent Model rmse = 4708.7\n",
      "Normal Equation Model rmse = 4709.1\n"
     ]
    }
   ],
   "source": [
    "from sklearn.metrics import mean_squared_error\n",
    "\n",
    "# Use the built-in SGD Regressor model\n",
    "from sklearn.linear_model import SGDRegressor\n",
    "mySGDModel = SGDRegressor()\n",
    "mySGDModel.fit(X_train,y_train)\n",
    "y_predict = mySGDModel.predict(X_test)\n",
    "mse = mean_squared_error(y_test, y_predict)\n",
    "mySGDModel_rmse = np.sqrt(mse)\n",
    "print('SGD Model rmse = {:.5}'.format(mySGDModel_rmse))\n",
    "\n",
    "myGradientDescentModel_rmse = np.sqrt(myGradientDescentModel.cal_cost(X_test, y_test))\n",
    "myNormalEquationModel_rmse = np.sqrt(myNormalEquationModel.cal_cost(X_test, y_test))\n",
    "\n",
    "print('Batch Gradient Descent Model rmse = {:.5}'.format(myGradientDescentModel_rmse))\n",
    "print('Normal Equation Model rmse = {:.5}'.format(myNormalEquationModel_rmse))\n"
   ]
  },
  {
   "cell_type": "markdown",
   "metadata": {},
   "source": [
    "Both of my models seem to perform slightly better than the SGD provided by scikit-learn."
   ]
  },
  {
   "cell_type": "markdown",
   "metadata": {},
   "source": [
    "- - -\n",
    "## 6. PRESENTATION OF SOLUTION"
   ]
  },
  {
   "cell_type": "markdown",
   "metadata": {},
   "source": [
    "With this model we can predict the purchasing power of each client on Black Friday. I was successfully able to write a prediction method to estimate the amount spent by any client with a margin of error of about \\$4700 USD. \n",
    "\n",
    "Making my own predictor let me understand some of the underlying theorems behind linear regression. In the future, I seek to find a better estimator by further expanding the dataset to include more data."
   ]
  }
 ],
 "metadata": {
  "kernelspec": {
   "display_name": "Python 3",
   "language": "python",
   "name": "python3"
  },
  "language_info": {
   "codemirror_mode": {
    "name": "ipython",
    "version": 3
   },
   "file_extension": ".py",
   "mimetype": "text/x-python",
   "name": "python",
   "nbconvert_exporter": "python",
   "pygments_lexer": "ipython3",
   "version": "3.6.8"
  }
 },
 "nbformat": 4,
 "nbformat_minor": 2
}
