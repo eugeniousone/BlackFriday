{
  "nbformat": 4,
  "nbformat_minor": 0,
  "metadata": {
    "colab": {
      "name": "BlackFriday.ipynb",
      "version": "0.3.2",
      "provenance": [],
      "toc_visible": true,
      "include_colab_link": true
    },
    "kernelspec": {
      "display_name": "Python 3",
      "language": "python",
      "name": "python3"
    }
  },
  "cells": [
    {
      "cell_type": "markdown",
      "metadata": {
        "id": "view-in-github",
        "colab_type": "text"
      },
      "source": [
        "<a href=\"https://colab.research.google.com/github/techshot25/BlackFriday/blob/master/BlackFriday.ipynb\" target=\"_parent\"><img src=\"https://colab.research.google.com/assets/colab-badge.svg\" alt=\"Open In Colab\"/></a>"
      ]
    },
    {
      "metadata": {
        "colab_type": "text",
        "id": "ZgO4ObLR0CEI"
      },
      "cell_type": "markdown",
      "source": [
        "# Black Friday Shopping Habits\n",
        "### By Ali J. Shannon\n",
        "\n",
        "\n",
        "---\n",
        "\n",
        "In this module, I am going to explore shopping habits of consumers during Black Friday. This will involve some data analysis, statistical analysis, and machine learning to predict consumer spending in USD.\n",
        "\n",
        "In summary, the data is not correlated so no rows needed to be removed for regression analysis. Random Forest Regression is the best estimator for spending habits with about 80% accuracy.\n",
        "\n",
        "\n",
        "\n",
        "---\n",
        "\n",
        "Info about this dataset can be found [here](https://www.kaggle.com/mehdidag/black-friday).\n",
        "\n",
        "##### Dataset of 550,000 observations about the black Friday in a retail store, it contains different kinds of variables either numerical or categorical. It contains missing values.\n",
        "\n"
      ]
    },
    {
      "metadata": {
        "colab_type": "code",
        "id": "pVFLEavhySE8",
        "outputId": "5b170dd1-5e03-46f6-8f50-c0de01384bc2",
        "colab": {
          "base_uri": "https://localhost:8080/",
          "height": 347
        }
      },
      "cell_type": "code",
      "source": [
        "# libraries needed for retrieving and orginizing the data along with a statistics library\n",
        "import pandas as pd\n",
        "import numpy as np\n",
        "import matplotlib.pyplot as plt\n",
        "import seaborn as sns\n",
        "\n",
        "# machine learning libraries by scikit-learn\n",
        "from sklearn.linear_model import LinearRegression\n",
        "from sklearn.ensemble import RandomForestRegressor\n",
        "from sklearn.preprocessing import PolynomialFeatures\n",
        "\n",
        "\n",
        "# import data file and show the first 10 rows\n",
        "df = pd.read_csv('BlackFriday.csv')\n",
        "df.head(10)"
      ],
      "execution_count": 1,
      "outputs": [
        {
          "output_type": "execute_result",
          "data": {
            "text/html": [
              "<div>\n",
              "<style scoped>\n",
              "    .dataframe tbody tr th:only-of-type {\n",
              "        vertical-align: middle;\n",
              "    }\n",
              "\n",
              "    .dataframe tbody tr th {\n",
              "        vertical-align: top;\n",
              "    }\n",
              "\n",
              "    .dataframe thead th {\n",
              "        text-align: right;\n",
              "    }\n",
              "</style>\n",
              "<table border=\"1\" class=\"dataframe\">\n",
              "  <thead>\n",
              "    <tr style=\"text-align: right;\">\n",
              "      <th></th>\n",
              "      <th>User_ID</th>\n",
              "      <th>Product_ID</th>\n",
              "      <th>Gender</th>\n",
              "      <th>Age</th>\n",
              "      <th>Occupation</th>\n",
              "      <th>City_Category</th>\n",
              "      <th>Stay_In_Current_City_Years</th>\n",
              "      <th>Marital_Status</th>\n",
              "      <th>Product_Category_1</th>\n",
              "      <th>Product_Category_2</th>\n",
              "      <th>Product_Category_3</th>\n",
              "      <th>Purchase</th>\n",
              "    </tr>\n",
              "  </thead>\n",
              "  <tbody>\n",
              "    <tr>\n",
              "      <th>0</th>\n",
              "      <td>1000001</td>\n",
              "      <td>P00069042</td>\n",
              "      <td>F</td>\n",
              "      <td>0-17</td>\n",
              "      <td>10</td>\n",
              "      <td>A</td>\n",
              "      <td>2</td>\n",
              "      <td>0</td>\n",
              "      <td>3</td>\n",
              "      <td>NaN</td>\n",
              "      <td>NaN</td>\n",
              "      <td>8370</td>\n",
              "    </tr>\n",
              "    <tr>\n",
              "      <th>1</th>\n",
              "      <td>1000001</td>\n",
              "      <td>P00248942</td>\n",
              "      <td>F</td>\n",
              "      <td>0-17</td>\n",
              "      <td>10</td>\n",
              "      <td>A</td>\n",
              "      <td>2</td>\n",
              "      <td>0</td>\n",
              "      <td>1</td>\n",
              "      <td>6.0</td>\n",
              "      <td>14.0</td>\n",
              "      <td>15200</td>\n",
              "    </tr>\n",
              "    <tr>\n",
              "      <th>2</th>\n",
              "      <td>1000001</td>\n",
              "      <td>P00087842</td>\n",
              "      <td>F</td>\n",
              "      <td>0-17</td>\n",
              "      <td>10</td>\n",
              "      <td>A</td>\n",
              "      <td>2</td>\n",
              "      <td>0</td>\n",
              "      <td>12</td>\n",
              "      <td>NaN</td>\n",
              "      <td>NaN</td>\n",
              "      <td>1422</td>\n",
              "    </tr>\n",
              "    <tr>\n",
              "      <th>3</th>\n",
              "      <td>1000001</td>\n",
              "      <td>P00085442</td>\n",
              "      <td>F</td>\n",
              "      <td>0-17</td>\n",
              "      <td>10</td>\n",
              "      <td>A</td>\n",
              "      <td>2</td>\n",
              "      <td>0</td>\n",
              "      <td>12</td>\n",
              "      <td>14.0</td>\n",
              "      <td>NaN</td>\n",
              "      <td>1057</td>\n",
              "    </tr>\n",
              "    <tr>\n",
              "      <th>4</th>\n",
              "      <td>1000002</td>\n",
              "      <td>P00285442</td>\n",
              "      <td>M</td>\n",
              "      <td>55+</td>\n",
              "      <td>16</td>\n",
              "      <td>C</td>\n",
              "      <td>4+</td>\n",
              "      <td>0</td>\n",
              "      <td>8</td>\n",
              "      <td>NaN</td>\n",
              "      <td>NaN</td>\n",
              "      <td>7969</td>\n",
              "    </tr>\n",
              "    <tr>\n",
              "      <th>5</th>\n",
              "      <td>1000003</td>\n",
              "      <td>P00193542</td>\n",
              "      <td>M</td>\n",
              "      <td>26-35</td>\n",
              "      <td>15</td>\n",
              "      <td>A</td>\n",
              "      <td>3</td>\n",
              "      <td>0</td>\n",
              "      <td>1</td>\n",
              "      <td>2.0</td>\n",
              "      <td>NaN</td>\n",
              "      <td>15227</td>\n",
              "    </tr>\n",
              "    <tr>\n",
              "      <th>6</th>\n",
              "      <td>1000004</td>\n",
              "      <td>P00184942</td>\n",
              "      <td>M</td>\n",
              "      <td>46-50</td>\n",
              "      <td>7</td>\n",
              "      <td>B</td>\n",
              "      <td>2</td>\n",
              "      <td>1</td>\n",
              "      <td>1</td>\n",
              "      <td>8.0</td>\n",
              "      <td>17.0</td>\n",
              "      <td>19215</td>\n",
              "    </tr>\n",
              "    <tr>\n",
              "      <th>7</th>\n",
              "      <td>1000004</td>\n",
              "      <td>P00346142</td>\n",
              "      <td>M</td>\n",
              "      <td>46-50</td>\n",
              "      <td>7</td>\n",
              "      <td>B</td>\n",
              "      <td>2</td>\n",
              "      <td>1</td>\n",
              "      <td>1</td>\n",
              "      <td>15.0</td>\n",
              "      <td>NaN</td>\n",
              "      <td>15854</td>\n",
              "    </tr>\n",
              "    <tr>\n",
              "      <th>8</th>\n",
              "      <td>1000004</td>\n",
              "      <td>P0097242</td>\n",
              "      <td>M</td>\n",
              "      <td>46-50</td>\n",
              "      <td>7</td>\n",
              "      <td>B</td>\n",
              "      <td>2</td>\n",
              "      <td>1</td>\n",
              "      <td>1</td>\n",
              "      <td>16.0</td>\n",
              "      <td>NaN</td>\n",
              "      <td>15686</td>\n",
              "    </tr>\n",
              "    <tr>\n",
              "      <th>9</th>\n",
              "      <td>1000005</td>\n",
              "      <td>P00274942</td>\n",
              "      <td>M</td>\n",
              "      <td>26-35</td>\n",
              "      <td>20</td>\n",
              "      <td>A</td>\n",
              "      <td>1</td>\n",
              "      <td>1</td>\n",
              "      <td>8</td>\n",
              "      <td>NaN</td>\n",
              "      <td>NaN</td>\n",
              "      <td>7871</td>\n",
              "    </tr>\n",
              "  </tbody>\n",
              "</table>\n",
              "</div>"
            ],
            "text/plain": [
              "   User_ID Product_ID Gender    Age  Occupation City_Category  \\\n",
              "0  1000001  P00069042      F   0-17          10             A   \n",
              "1  1000001  P00248942      F   0-17          10             A   \n",
              "2  1000001  P00087842      F   0-17          10             A   \n",
              "3  1000001  P00085442      F   0-17          10             A   \n",
              "4  1000002  P00285442      M    55+          16             C   \n",
              "5  1000003  P00193542      M  26-35          15             A   \n",
              "6  1000004  P00184942      M  46-50           7             B   \n",
              "7  1000004  P00346142      M  46-50           7             B   \n",
              "8  1000004   P0097242      M  46-50           7             B   \n",
              "9  1000005  P00274942      M  26-35          20             A   \n",
              "\n",
              "  Stay_In_Current_City_Years  Marital_Status  Product_Category_1  \\\n",
              "0                          2               0                   3   \n",
              "1                          2               0                   1   \n",
              "2                          2               0                  12   \n",
              "3                          2               0                  12   \n",
              "4                         4+               0                   8   \n",
              "5                          3               0                   1   \n",
              "6                          2               1                   1   \n",
              "7                          2               1                   1   \n",
              "8                          2               1                   1   \n",
              "9                          1               1                   8   \n",
              "\n",
              "   Product_Category_2  Product_Category_3  Purchase  \n",
              "0                 NaN                 NaN      8370  \n",
              "1                 6.0                14.0     15200  \n",
              "2                 NaN                 NaN      1422  \n",
              "3                14.0                 NaN      1057  \n",
              "4                 NaN                 NaN      7969  \n",
              "5                 2.0                 NaN     15227  \n",
              "6                 8.0                17.0     19215  \n",
              "7                15.0                 NaN     15854  \n",
              "8                16.0                 NaN     15686  \n",
              "9                 NaN                 NaN      7871  "
            ]
          },
          "metadata": {
            "tags": []
          },
          "execution_count": 1
        }
      ]
    },
    {
      "metadata": {
        "colab_type": "text",
        "id": "S3ZIBM-zZFsG"
      },
      "cell_type": "markdown",
      "source": [
        "## Data cleanup\n",
        "\n",
        "First I will drop the columns that are not necessary for my analysis. These are: `User_ID` and `Product_ID`."
      ]
    },
    {
      "metadata": {
        "colab_type": "code",
        "id": "FptnHRNbhuhS",
        "colab": {}
      },
      "cell_type": "code",
      "source": [
        "df = df.drop(columns = ['User_ID', 'Product_ID'])"
      ],
      "execution_count": 0,
      "outputs": []
    },
    {
      "metadata": {
        "colab_type": "text",
        "id": "7So__mbghXnO"
      },
      "cell_type": "markdown",
      "source": [
        "Here I handle missing values:"
      ]
    },
    {
      "metadata": {
        "colab_type": "code",
        "id": "oOr5I0SkYqma",
        "outputId": "08d0cb85-8a74-41d6-f8d7-6d208469d7b2",
        "colab": {
          "base_uri": "https://localhost:8080/",
          "height": 70
        }
      },
      "cell_type": "code",
      "source": [
        "missing_values = df.isnull().sum().sort_values(ascending = False)\n",
        "missing_values = missing_values[missing_values > 0]/df.shape[0]\n",
        "print(f'{missing_values *100} %')"
      ],
      "execution_count": 3,
      "outputs": [
        {
          "output_type": "stream",
          "text": [
            "Product_Category_3    69.354522\n",
            "Product_Category_2    30.982233\n",
            "dtype: float64 %\n"
          ],
          "name": "stdout"
        }
      ]
    },
    {
      "metadata": {
        "colab_type": "text",
        "id": "VjfhLLMkbU41"
      },
      "cell_type": "markdown",
      "source": [
        "Precetage of missing values in each of these two columns. Displayed as `NaN` in the data frame above.\n",
        "\n",
        "\n",
        "Replacing missing values with zeros and double checking."
      ]
    },
    {
      "metadata": {
        "colab_type": "code",
        "id": "8VcFh8PsZ3as",
        "outputId": "e9c81d08-991c-49ec-fb56-887ee5fdc06b",
        "colab": {
          "base_uri": "https://localhost:8080/",
          "height": 34
        }
      },
      "cell_type": "code",
      "source": [
        "df = df.fillna(0)\n",
        "\n",
        "missing_values = df.isnull().sum().sort_values(ascending = False)\n",
        "missing_values = missing_values[missing_values > 0]/df.shape[0]\n",
        "print(f'{missing_values *100} %')"
      ],
      "execution_count": 4,
      "outputs": [
        {
          "output_type": "stream",
          "text": [
            "Series([], dtype: float64) %\n"
          ],
          "name": "stdout"
        }
      ]
    },
    {
      "metadata": {
        "colab_type": "text",
        "id": "WHPHZTPrdUJy"
      },
      "cell_type": "markdown",
      "source": [
        "Since most of the machine learning methods do not use strings, I will transform `str` or `object` fields to `int`. "
      ]
    },
    {
      "metadata": {
        "colab_type": "code",
        "id": "ow5keA9BdFWe",
        "outputId": "11cbb3d0-f71b-4155-96c1-71161f35a1ca",
        "colab": {
          "base_uri": "https://localhost:8080/",
          "height": 212
        }
      },
      "cell_type": "code",
      "source": [
        "df.dtypes"
      ],
      "execution_count": 5,
      "outputs": [
        {
          "output_type": "execute_result",
          "data": {
            "text/plain": [
              "Gender                         object\n",
              "Age                            object\n",
              "Occupation                      int64\n",
              "City_Category                  object\n",
              "Stay_In_Current_City_Years     object\n",
              "Marital_Status                  int64\n",
              "Product_Category_1              int64\n",
              "Product_Category_2            float64\n",
              "Product_Category_3            float64\n",
              "Purchase                        int64\n",
              "dtype: object"
            ]
          },
          "metadata": {
            "tags": []
          },
          "execution_count": 5
        }
      ]
    },
    {
      "metadata": {
        "colab_type": "text",
        "id": "SnpF7IDTd0Cg"
      },
      "cell_type": "markdown",
      "source": [
        "Starting from the first feature: `gender`."
      ]
    },
    {
      "metadata": {
        "colab_type": "code",
        "id": "W7ePzEdldezw",
        "outputId": "e23b4983-2067-4d98-ba18-09f7de878ffa",
        "colab": {
          "base_uri": "https://localhost:8080/",
          "height": 34
        }
      },
      "cell_type": "code",
      "source": [
        "gender = np.unique(df['Gender'])\n",
        "gender"
      ],
      "execution_count": 6,
      "outputs": [
        {
          "output_type": "execute_result",
          "data": {
            "text/plain": [
              "array(['F', 'M'], dtype=object)"
            ]
          },
          "metadata": {
            "tags": []
          },
          "execution_count": 6
        }
      ]
    },
    {
      "metadata": {
        "colab_type": "text",
        "id": "iK5s5VKAeNix"
      },
      "cell_type": "markdown",
      "source": [
        "Let's map every `F` to `1` and every `M` to `0`"
      ]
    },
    {
      "metadata": {
        "colab_type": "code",
        "id": "kBDT1auQeA9Z",
        "colab": {}
      },
      "cell_type": "code",
      "source": [
        "def gender_map(gender):\n",
        "  if gender == 'F':\n",
        "    return 1\n",
        "  else:\n",
        "    return 0\n",
        "  \n",
        "df['Gender'] = df['Gender'].apply(gender_map)"
      ],
      "execution_count": 0,
      "outputs": []
    },
    {
      "metadata": {
        "colab_type": "text",
        "id": "3xrZROUZexvr"
      },
      "cell_type": "markdown",
      "source": [
        "Next we take care of `age`."
      ]
    },
    {
      "metadata": {
        "colab_type": "code",
        "id": "qGKaJ-NBemgZ",
        "outputId": "6a36ee19-a681-44f9-8858-d1df3712ce00",
        "colab": {
          "base_uri": "https://localhost:8080/",
          "height": 52
        }
      },
      "cell_type": "code",
      "source": [
        "age = np.unique(df['Age'])\n",
        "age"
      ],
      "execution_count": 8,
      "outputs": [
        {
          "output_type": "execute_result",
          "data": {
            "text/plain": [
              "array(['0-17', '18-25', '26-35', '36-45', '46-50', '51-55', '55+'],\n",
              "      dtype=object)"
            ]
          },
          "metadata": {
            "tags": []
          },
          "execution_count": 8
        }
      ]
    },
    {
      "metadata": {
        "colab_type": "code",
        "id": "NVS9RPrte6ZB",
        "colab": {}
      },
      "cell_type": "code",
      "source": [
        "def age_map(age):\n",
        "  if age == '0-17':\n",
        "    return 0\n",
        "  elif age == '18-25':\n",
        "    return 1\n",
        "  elif age == '26-35':\n",
        "    return 2\n",
        "  elif age == '36-45':\n",
        "    return 3\n",
        "  elif age == '46-50':\n",
        "    return 4\n",
        "  elif age == '51-55':\n",
        "    return 5\n",
        "  else:\n",
        "    return 6\n",
        "  \n",
        "df['Age'] = df['Age'].apply(age_map)"
      ],
      "execution_count": 0,
      "outputs": []
    },
    {
      "metadata": {
        "colab_type": "text",
        "id": "-LOV--0QgORf"
      },
      "cell_type": "markdown",
      "source": [
        "Following the same pattern with cities"
      ]
    },
    {
      "metadata": {
        "colab_type": "code",
        "id": "MXyU5qgDfjAT",
        "outputId": "9448ca03-61f4-4943-da8e-24103551f634",
        "colab": {
          "base_uri": "https://localhost:8080/",
          "height": 34
        }
      },
      "cell_type": "code",
      "source": [
        "city = np.unique(df['City_Category'])\n",
        "city"
      ],
      "execution_count": 10,
      "outputs": [
        {
          "output_type": "execute_result",
          "data": {
            "text/plain": [
              "array(['A', 'B', 'C'], dtype=object)"
            ]
          },
          "metadata": {
            "tags": []
          },
          "execution_count": 10
        }
      ]
    },
    {
      "metadata": {
        "colab_type": "code",
        "id": "2TIUBJSMgJwN",
        "colab": {}
      },
      "cell_type": "code",
      "source": [
        "def city_map(city):\n",
        "  if city == 'A':\n",
        "    return 0\n",
        "  elif city == 'B':\n",
        "    return 1 \n",
        "  else:\n",
        "    return 2\n",
        "\n",
        "df['City_Category'] = df['City_Category'].apply(city_map)"
      ],
      "execution_count": 0,
      "outputs": []
    },
    {
      "metadata": {
        "colab_type": "text",
        "id": "AWG_oQiSjQQz"
      },
      "cell_type": "markdown",
      "source": [
        "Notice that the `Stay_In_Current_City_Years` is displayed as `4+` which is treated as a string."
      ]
    },
    {
      "metadata": {
        "colab_type": "code",
        "id": "YoNLCv9aixKc",
        "colab": {
          "base_uri": "https://localhost:8080/",
          "height": 34
        },
        "outputId": "bed3e474-b213-4723-9c6c-f0da11097a1a"
      },
      "cell_type": "code",
      "source": [
        "stay = np.unique(df['Stay_In_Current_City_Years'])\n",
        "\n",
        "stay"
      ],
      "execution_count": 12,
      "outputs": [
        {
          "output_type": "execute_result",
          "data": {
            "text/plain": [
              "array(['0', '1', '2', '3', '4+'], dtype=object)"
            ]
          },
          "metadata": {
            "tags": []
          },
          "execution_count": 12
        }
      ]
    },
    {
      "metadata": {
        "colab_type": "code",
        "id": "j9WAQKqljigM",
        "colab": {
          "base_uri": "https://localhost:8080/",
          "height": 347
        },
        "outputId": "6dce91f9-8fe3-45da-cdd7-f6e820173f34"
      },
      "cell_type": "code",
      "source": [
        "def stay_map(stay):\n",
        "  if stay == '4+':\n",
        "    return 4\n",
        "  else:\n",
        "    return int(stay)\n",
        "  \n",
        "df['Stay_In_Current_City_Years'] = df['Stay_In_Current_City_Years'].apply(stay_map)\n",
        "\n",
        "df.head(10)"
      ],
      "execution_count": 13,
      "outputs": [
        {
          "output_type": "execute_result",
          "data": {
            "text/html": [
              "<div>\n",
              "<style scoped>\n",
              "    .dataframe tbody tr th:only-of-type {\n",
              "        vertical-align: middle;\n",
              "    }\n",
              "\n",
              "    .dataframe tbody tr th {\n",
              "        vertical-align: top;\n",
              "    }\n",
              "\n",
              "    .dataframe thead th {\n",
              "        text-align: right;\n",
              "    }\n",
              "</style>\n",
              "<table border=\"1\" class=\"dataframe\">\n",
              "  <thead>\n",
              "    <tr style=\"text-align: right;\">\n",
              "      <th></th>\n",
              "      <th>Gender</th>\n",
              "      <th>Age</th>\n",
              "      <th>Occupation</th>\n",
              "      <th>City_Category</th>\n",
              "      <th>Stay_In_Current_City_Years</th>\n",
              "      <th>Marital_Status</th>\n",
              "      <th>Product_Category_1</th>\n",
              "      <th>Product_Category_2</th>\n",
              "      <th>Product_Category_3</th>\n",
              "      <th>Purchase</th>\n",
              "    </tr>\n",
              "  </thead>\n",
              "  <tbody>\n",
              "    <tr>\n",
              "      <th>0</th>\n",
              "      <td>1</td>\n",
              "      <td>0</td>\n",
              "      <td>10</td>\n",
              "      <td>0</td>\n",
              "      <td>2</td>\n",
              "      <td>0</td>\n",
              "      <td>3</td>\n",
              "      <td>0.0</td>\n",
              "      <td>0.0</td>\n",
              "      <td>8370</td>\n",
              "    </tr>\n",
              "    <tr>\n",
              "      <th>1</th>\n",
              "      <td>1</td>\n",
              "      <td>0</td>\n",
              "      <td>10</td>\n",
              "      <td>0</td>\n",
              "      <td>2</td>\n",
              "      <td>0</td>\n",
              "      <td>1</td>\n",
              "      <td>6.0</td>\n",
              "      <td>14.0</td>\n",
              "      <td>15200</td>\n",
              "    </tr>\n",
              "    <tr>\n",
              "      <th>2</th>\n",
              "      <td>1</td>\n",
              "      <td>0</td>\n",
              "      <td>10</td>\n",
              "      <td>0</td>\n",
              "      <td>2</td>\n",
              "      <td>0</td>\n",
              "      <td>12</td>\n",
              "      <td>0.0</td>\n",
              "      <td>0.0</td>\n",
              "      <td>1422</td>\n",
              "    </tr>\n",
              "    <tr>\n",
              "      <th>3</th>\n",
              "      <td>1</td>\n",
              "      <td>0</td>\n",
              "      <td>10</td>\n",
              "      <td>0</td>\n",
              "      <td>2</td>\n",
              "      <td>0</td>\n",
              "      <td>12</td>\n",
              "      <td>14.0</td>\n",
              "      <td>0.0</td>\n",
              "      <td>1057</td>\n",
              "    </tr>\n",
              "    <tr>\n",
              "      <th>4</th>\n",
              "      <td>0</td>\n",
              "      <td>6</td>\n",
              "      <td>16</td>\n",
              "      <td>2</td>\n",
              "      <td>4</td>\n",
              "      <td>0</td>\n",
              "      <td>8</td>\n",
              "      <td>0.0</td>\n",
              "      <td>0.0</td>\n",
              "      <td>7969</td>\n",
              "    </tr>\n",
              "    <tr>\n",
              "      <th>5</th>\n",
              "      <td>0</td>\n",
              "      <td>2</td>\n",
              "      <td>15</td>\n",
              "      <td>0</td>\n",
              "      <td>3</td>\n",
              "      <td>0</td>\n",
              "      <td>1</td>\n",
              "      <td>2.0</td>\n",
              "      <td>0.0</td>\n",
              "      <td>15227</td>\n",
              "    </tr>\n",
              "    <tr>\n",
              "      <th>6</th>\n",
              "      <td>0</td>\n",
              "      <td>4</td>\n",
              "      <td>7</td>\n",
              "      <td>1</td>\n",
              "      <td>2</td>\n",
              "      <td>1</td>\n",
              "      <td>1</td>\n",
              "      <td>8.0</td>\n",
              "      <td>17.0</td>\n",
              "      <td>19215</td>\n",
              "    </tr>\n",
              "    <tr>\n",
              "      <th>7</th>\n",
              "      <td>0</td>\n",
              "      <td>4</td>\n",
              "      <td>7</td>\n",
              "      <td>1</td>\n",
              "      <td>2</td>\n",
              "      <td>1</td>\n",
              "      <td>1</td>\n",
              "      <td>15.0</td>\n",
              "      <td>0.0</td>\n",
              "      <td>15854</td>\n",
              "    </tr>\n",
              "    <tr>\n",
              "      <th>8</th>\n",
              "      <td>0</td>\n",
              "      <td>4</td>\n",
              "      <td>7</td>\n",
              "      <td>1</td>\n",
              "      <td>2</td>\n",
              "      <td>1</td>\n",
              "      <td>1</td>\n",
              "      <td>16.0</td>\n",
              "      <td>0.0</td>\n",
              "      <td>15686</td>\n",
              "    </tr>\n",
              "    <tr>\n",
              "      <th>9</th>\n",
              "      <td>0</td>\n",
              "      <td>2</td>\n",
              "      <td>20</td>\n",
              "      <td>0</td>\n",
              "      <td>1</td>\n",
              "      <td>1</td>\n",
              "      <td>8</td>\n",
              "      <td>0.0</td>\n",
              "      <td>0.0</td>\n",
              "      <td>7871</td>\n",
              "    </tr>\n",
              "  </tbody>\n",
              "</table>\n",
              "</div>"
            ],
            "text/plain": [
              "   Gender  Age  Occupation  City_Category  Stay_In_Current_City_Years  \\\n",
              "0       1    0          10              0                           2   \n",
              "1       1    0          10              0                           2   \n",
              "2       1    0          10              0                           2   \n",
              "3       1    0          10              0                           2   \n",
              "4       0    6          16              2                           4   \n",
              "5       0    2          15              0                           3   \n",
              "6       0    4           7              1                           2   \n",
              "7       0    4           7              1                           2   \n",
              "8       0    4           7              1                           2   \n",
              "9       0    2          20              0                           1   \n",
              "\n",
              "   Marital_Status  Product_Category_1  Product_Category_2  Product_Category_3  \\\n",
              "0               0                   3                 0.0                 0.0   \n",
              "1               0                   1                 6.0                14.0   \n",
              "2               0                  12                 0.0                 0.0   \n",
              "3               0                  12                14.0                 0.0   \n",
              "4               0                   8                 0.0                 0.0   \n",
              "5               0                   1                 2.0                 0.0   \n",
              "6               1                   1                 8.0                17.0   \n",
              "7               1                   1                15.0                 0.0   \n",
              "8               1                   1                16.0                 0.0   \n",
              "9               1                   8                 0.0                 0.0   \n",
              "\n",
              "   Purchase  \n",
              "0      8370  \n",
              "1     15200  \n",
              "2      1422  \n",
              "3      1057  \n",
              "4      7969  \n",
              "5     15227  \n",
              "6     19215  \n",
              "7     15854  \n",
              "8     15686  \n",
              "9      7871  "
            ]
          },
          "metadata": {
            "tags": []
          },
          "execution_count": 13
        }
      ]
    },
    {
      "metadata": {
        "colab_type": "text",
        "id": "KCfovSC8vvIe"
      },
      "cell_type": "markdown",
      "source": [
        "Turn the last row into `float` and all the other rows to `int`."
      ]
    },
    {
      "metadata": {
        "colab_type": "code",
        "id": "TrRXp5n0w2MZ",
        "colab": {}
      },
      "cell_type": "code",
      "source": [
        "df['Purchase'] = pd.to_numeric(df['Purchase']).astype(float)\n",
        "\n",
        "for i in range(2,4):\n",
        "  df[df.columns[-i]] = pd.to_numeric(df[df.columns[-i]]).astype(int)"
      ],
      "execution_count": 0,
      "outputs": []
    },
    {
      "metadata": {
        "colab_type": "text",
        "id": "3JvzCQeJw13-"
      },
      "cell_type": "markdown",
      "source": [
        "And we're done, time to do some stats."
      ]
    },
    {
      "metadata": {
        "colab_type": "text",
        "id": "OVPMSkR_k-bW"
      },
      "cell_type": "markdown",
      "source": [
        "## Statistics\n",
        "\n",
        "Here we are looking at the heatmap for correlation (or correlation matrix). If the data is far too correlated, then some columns could be dropped for machine learning algorithims. As we see, the highest correlation is about 0.31 which is a low correlation."
      ]
    },
    {
      "metadata": {
        "colab_type": "code",
        "id": "jY3Qh0cDkkR1",
        "colab": {
          "base_uri": "https://localhost:8080/",
          "height": 815
        },
        "outputId": "1e1c7181-6778-404a-a463-2c04595bca52"
      },
      "cell_type": "code",
      "source": [
        "sns.set(style='ticks', color_codes=True)\n",
        "plt.figure(figsize=(14, 12))\n",
        "sns.heatmap(df.astype(float).corr(), \n",
        "            linewidths=0.1, \n",
        "            square=True, \n",
        "            linecolor='white', \n",
        "            annot=True)\n",
        "plt.show()"
      ],
      "execution_count": 15,
      "outputs": [
        {
          "output_type": "display_data",
          "data": {
            "image/png": "[encoded data removed]",
            "text/plain": [
              "<matplotlib.figure.Figure at 0x7f4864e39358>"
            ]
          },
          "metadata": {
            "tags": []
          }
        }
      ]
    },
    {
      "metadata": {
        "colab_type": "text",
        "id": "hG82HtjJnbri"
      },
      "cell_type": "markdown",
      "source": [
        "With this we can deduce that no two data columns are too highly correlated. No columns need dropping."
      ]
    },
    {
      "metadata": {
        "colab_type": "text",
        "id": "-SELiwD-nj0Z"
      },
      "cell_type": "markdown",
      "source": [
        "## Machine Learning (probability analysis)\n",
        "\n",
        "With this model, I intend to predict purchasing habits based on age, gender, location, and categories.\n",
        "\n",
        "---\n",
        "\n",
        "First, we need to split the data into training and testing sets. The training features will be all columns except for `Purchase`, which will be our classifier."
      ]
    },
    {
      "metadata": {
        "colab_type": "code",
        "id": "LPwhVR7Qo0rp",
        "colab": {}
      },
      "cell_type": "code",
      "source": [
        "X = df[df.columns[:-1]].values\n",
        "y = df[df.columns[-1]].values\n",
        "\n",
        "# take out every 5th element for accuracy testing\n",
        "test_idx = [x for x in range(len(y)) if x%5 == 0]\n",
        "\n",
        "y_train = np.delete(y, test_idx)\n",
        "X_train = np.delete(X, test_idx, axis = 0)\n",
        "\n",
        "y_test = [y[i] for i in test_idx]\n",
        "X_test = [X[i] for i in test_idx]"
      ],
      "execution_count": 0,
      "outputs": []
    },
    {
      "metadata": {
        "colab_type": "text",
        "id": "MP_788Cxpmhs"
      },
      "cell_type": "markdown",
      "source": [
        "Now we start by emplying linear regression from sklearn libraries"
      ]
    },
    {
      "metadata": {
        "colab_type": "code",
        "id": "z2WckW1Ip2ge",
        "colab": {
          "base_uri": "https://localhost:8080/",
          "height": 34
        },
        "outputId": "288be496-16fa-4cf2-d1b7-d30e55267950"
      },
      "cell_type": "code",
      "source": [
        "rfr = RandomForestRegressor(n_estimators = 100)\n",
        "rfr = rfr.fit(X, y)\n",
        "\n",
        "rfr.score(X,y)"
      ],
      "execution_count": 17,
      "outputs": [
        {
          "output_type": "execute_result",
          "data": {
            "text/plain": [
              "0.7935017771121742"
            ]
          },
          "metadata": {
            "tags": []
          },
          "execution_count": 17
        }
      ]
    },
    {
      "metadata": {
        "id": "Ja977T2QP0Ig",
        "colab_type": "code",
        "colab": {
          "base_uri": "https://localhost:8080/",
          "height": 34
        },
        "outputId": "50461949-2a0e-415a-dcf7-cc1dfe187326"
      },
      "cell_type": "code",
      "source": [
        "linreg = LinearRegression().fit(X, y)\n",
        "\n",
        "linreg.score(X,y)"
      ],
      "execution_count": 18,
      "outputs": [
        {
          "output_type": "execute_result",
          "data": {
            "text/plain": [
              "0.13496316929437147"
            ]
          },
          "metadata": {
            "tags": []
          },
          "execution_count": 18
        }
      ]
    },
    {
      "metadata": {
        "id": "HuE94iFERiXE",
        "colab_type": "text"
      },
      "cell_type": "markdown",
      "source": [
        "The polynomial will attempt to vary the coefficients of $(x_{1}+x_{2}+x_{3}+..)^{n}$ which should estimate if some non-linear combination of at most of $n$ power. First we need to use `PolynomialFeatures(n)` to make a new matrix of features `poly` that involve powers of features that the linear model can use to vary the coefficients.\n",
        "\n",
        "Using `n=3` gave an accuracy of about 30% which is fairly low but no higher power can bring the accuracy much higher."
      ]
    },
    {
      "metadata": {
        "colab_type": "code",
        "id": "pj_XgLZA2Ufu",
        "colab": {
          "base_uri": "https://localhost:8080/",
          "height": 34
        },
        "outputId": "5d35c707-87bb-4c1d-93ad-e069554e5b9e"
      },
      "cell_type": "code",
      "source": [
        "poly = PolynomialFeatures(3)\n",
        "poly = poly.fit_transform(X)\n",
        "\n",
        "polyreg = LinearRegression().fit(poly, y)\n",
        "polyreg.score(poly,y)"
      ],
      "execution_count": 20,
      "outputs": [
        {
          "output_type": "execute_result",
          "data": {
            "text/plain": [
              "0.3000320288786188"
            ]
          },
          "metadata": {
            "tags": []
          },
          "execution_count": 20
        }
      ]
    },
    {
      "metadata": {
        "id": "P0S4GNfaSa2v",
        "colab_type": "text"
      },
      "cell_type": "markdown",
      "source": [
        "## Conclusion\n",
        "\n",
        "It appears that the Random Forest Regressor is the best estimator for spending habits, this data may be used for marketing purposes."
      ]
    },
    {
      "metadata": {
        "id": "T1d5Oz-OTLCD",
        "colab_type": "code",
        "colab": {}
      },
      "cell_type": "code",
      "source": [
        ""
      ],
      "execution_count": 0,
      "outputs": []
    }
  ]
}